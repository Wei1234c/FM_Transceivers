{
 "cells": [
  {
   "cell_type": "markdown",
   "metadata": {},
   "source": [
    "# KT0803L Functional Test \n",
    "- http://radio-z.ucoz.lv/kt_0803/KT0803L_V1.3.pdf"
   ]
  },
  {
   "cell_type": "code",
   "execution_count": 1,
   "metadata": {},
   "outputs": [],
   "source": [
    "import os, sys\n",
    "\n",
    "def gen_relative_path(target_path): \n",
    "    \n",
    "    def del_same_parents(target_path, current_path):\n",
    "        if len(target_path) * len(current_path) > 0:\n",
    "            if target_path[0] == current_path[0]:\n",
    "                target_path.pop(0)\n",
    "                current_path.pop(0)\n",
    "                del_same_parents(target_path, current_path)\n",
    "            \n",
    "    current_path = os.getcwd().replace('\\\\', '/').split('/')\n",
    "    target_path = target_path.replace('\\\\', '/').split('/')\n",
    "    del_same_parents(target_path, current_path)\n",
    "    \n",
    "    return ['..'] * len(current_path) + target_path\n",
    "\n",
    "\n",
    "def append_source_relative_path(source_relative_path):\n",
    "    sys.path.append(os.sep.join(source_relative_path))"
   ]
  },
  {
   "cell_type": "code",
   "execution_count": 2,
   "metadata": {},
   "outputs": [],
   "source": [
    "# paths = [' ']\n",
    "# paths = [gen_relative_path(p) for p in paths]\n",
    "# print(paths)"
   ]
  },
  {
   "cell_type": "code",
   "execution_count": 3,
   "metadata": {},
   "outputs": [],
   "source": [
    "paths =[['..', '..', '..', '..', '..', 'Signal Generators', 'bitbucket', 'github', 'codes'],\n",
    "        ['..', '..', '..', '..', '..', 'FX2LP', 'bitbucket', 'github', 'codes'], \n",
    "        ['..', '..', '..', '..', '..', 'Utilities', 'bitbucket', 'github', 'codes'],\n",
    "        ['..', '..', 'codes']]\n",
    "\n",
    "for path in paths:\n",
    "    append_source_relative_path(path)"
   ]
  },
  {
   "cell_type": "code",
   "execution_count": 4,
   "metadata": {},
   "outputs": [
    {
     "name": "stdout",
     "output_type": "stream",
     "text": [
      "Populating the interactive namespace from numpy and matplotlib\n"
     ]
    }
   ],
   "source": [
    "%pylab inline\n",
    " \n",
    "from array import array\n",
    "from utilities.adapters import peripherals\n",
    "from fm_transceivers import KT0803L\n",
    "import fx2lp"
   ]
  },
  {
   "cell_type": "code",
   "execution_count": 5,
   "metadata": {},
   "outputs": [],
   "source": [
    "import pandas as pd\n",
    "\n",
    "#https://thispointer.com/python-pandas-how-to-display-full-dataframe-i-e-print-all-rows-columns-without-truncation/\n",
    "pd.set_option('display.max_rows', None)\n",
    "# pd.set_option('display.max_columns', None)\n",
    "# pd.set_option('display.width', None)\n",
    "# pd.set_option('display.max_colwidth', -1)"
   ]
  },
  {
   "cell_type": "markdown",
   "metadata": {},
   "source": [
    "## Debug mode?"
   ]
  },
  {
   "cell_type": "code",
   "execution_count": 6,
   "metadata": {
    "scrolled": false
   },
   "outputs": [],
   "source": [
    "cls = KT0803L\n",
    "\n",
    "cls.DEBUG_MODE_SHOW_BUS_DATA = False         # whether to show bus data. \n",
    "cls.DEBUG_MODE_PRINT_REGISTER = False        # whether to print registers. "
   ]
  },
  {
   "cell_type": "markdown",
   "metadata": {},
   "source": [
    "## Generators"
   ]
  },
  {
   "cell_type": "code",
   "execution_count": 7,
   "metadata": {},
   "outputs": [
    {
     "name": "stdout",
     "output_type": "stream",
     "text": [
      "\n",
      "****** Virtual device. Data may not be real ! ******\n",
      "\n"
     ]
    }
   ],
   "source": [
    "with_hardware_device = False\n",
    "\n",
    "if with_hardware_device:\n",
    "    _i2c = peripherals.I2C.get_Ftdi_i2c()\n",
    "else:\n",
    "    _i2c = None  # using None for testing without actual hardware device.\n",
    "    \n",
    "bus = peripherals.I2C(_i2c)"
   ]
  },
  {
   "cell_type": "code",
   "execution_count": 8,
   "metadata": {},
   "outputs": [],
   "source": [
    "bus = fx2lp.I2C(as_400KHz = False)"
   ]
  },
  {
   "cell_type": "code",
   "execution_count": 47,
   "metadata": {},
   "outputs": [],
   "source": [
    "# freq = 88.80e6\n",
    "# freq = 97.7e6\n",
    " \n",
    "kt = KT0803L(bus, freq = 88.80e6,  \n",
    "             emphasis_us = 75, audio_deviation = 75e3,\n",
    "             input_level_dB = 0, tx_power_dBuV = 108, bass_boost_level_dB = 11) \n",
    "\n",
    "initial_registers_values = kt.registers_values"
   ]
  },
  {
   "cell_type": "markdown",
   "metadata": {},
   "source": [
    "## Member functions test"
   ]
  },
  {
   "cell_type": "code",
   "execution_count": 10,
   "metadata": {},
   "outputs": [],
   "source": [
    "# for f in dir(KT0803L):\n",
    "#     if not f.startswith('_'):\n",
    "#         if f.islower():\n",
    "#             if callable(getattr(KT0803L, f)):\n",
    "#                 print('kt.{}()'.format(f))"
   ]
  },
  {
   "cell_type": "code",
   "execution_count": 11,
   "metadata": {},
   "outputs": [],
   "source": [
    "# kt.apply_signal()"
   ]
  },
  {
   "cell_type": "code",
   "execution_count": 12,
   "metadata": {},
   "outputs": [],
   "source": [
    "kt.close()"
   ]
  },
  {
   "cell_type": "code",
   "execution_count": 13,
   "metadata": {},
   "outputs": [],
   "source": [
    "kt.start()"
   ]
  },
  {
   "cell_type": "code",
   "execution_count": 14,
   "metadata": {},
   "outputs": [],
   "source": [
    "kt.enable(False)"
   ]
  },
  {
   "cell_type": "code",
   "execution_count": 15,
   "metadata": {},
   "outputs": [],
   "source": [
    "kt.enable(True)"
   ]
  },
  {
   "cell_type": "code",
   "execution_count": 16,
   "metadata": {},
   "outputs": [],
   "source": [
    "kt.enable_output(False)"
   ]
  },
  {
   "cell_type": "code",
   "execution_count": 17,
   "metadata": {},
   "outputs": [],
   "source": [
    "kt.enable_output(True)"
   ]
  },
  {
   "cell_type": "code",
   "execution_count": 18,
   "metadata": {},
   "outputs": [],
   "source": [
    "kt.mute(True)"
   ]
  },
  {
   "cell_type": "code",
   "execution_count": 19,
   "metadata": {},
   "outputs": [
    {
     "data": {
      "text/plain": [
       "False"
      ]
     },
     "execution_count": 19,
     "metadata": {},
     "output_type": "execute_result"
    }
   ],
   "source": [
    "kt.stereo = False\n",
    "kt.stereo"
   ]
  },
  {
   "cell_type": "code",
   "execution_count": 20,
   "metadata": {},
   "outputs": [
    {
     "data": {
      "text/plain": [
       "True"
      ]
     },
     "execution_count": 20,
     "metadata": {},
     "output_type": "execute_result"
    }
   ],
   "source": [
    "kt.stereo = True\n",
    "kt.stereo"
   ]
  },
  {
   "cell_type": "code",
   "execution_count": 21,
   "metadata": {},
   "outputs": [],
   "source": [
    "kt.mute(False)"
   ]
  },
  {
   "cell_type": "code",
   "execution_count": 22,
   "metadata": {},
   "outputs": [],
   "source": [
    "kt.pause()"
   ]
  },
  {
   "cell_type": "code",
   "execution_count": 23,
   "metadata": {},
   "outputs": [],
   "source": [
    "kt.resume()"
   ]
  },
  {
   "cell_type": "code",
   "execution_count": 24,
   "metadata": {},
   "outputs": [],
   "source": [
    "kt.reset()"
   ]
  },
  {
   "cell_type": "code",
   "execution_count": 25,
   "metadata": {},
   "outputs": [],
   "source": [
    "kt.set_frequency(88.9e6)"
   ]
  },
  {
   "cell_type": "code",
   "execution_count": 26,
   "metadata": {},
   "outputs": [],
   "source": [
    "kt.set_frequency(88.8e6)"
   ]
  },
  {
   "cell_type": "code",
   "execution_count": 27,
   "metadata": {},
   "outputs": [],
   "source": [
    "kt.transmitter.set_power(95.5)"
   ]
  },
  {
   "cell_type": "code",
   "execution_count": 28,
   "metadata": {},
   "outputs": [],
   "source": [
    "kt.transmitter.set_power(108)"
   ]
  },
  {
   "cell_type": "code",
   "execution_count": 29,
   "metadata": {},
   "outputs": [],
   "source": [
    "kt.set_power(108)"
   ]
  },
  {
   "cell_type": "code",
   "execution_count": 30,
   "metadata": {},
   "outputs": [],
   "source": [
    "kt.init()"
   ]
  },
  {
   "cell_type": "code",
   "execution_count": 31,
   "metadata": {},
   "outputs": [],
   "source": [
    "kt.start()"
   ]
  },
  {
   "cell_type": "code",
   "execution_count": 32,
   "metadata": {},
   "outputs": [],
   "source": [
    "kt.stop()"
   ]
  },
  {
   "cell_type": "code",
   "execution_count": 33,
   "metadata": {},
   "outputs": [],
   "source": [
    "kt.toggle()"
   ]
  },
  {
   "cell_type": "code",
   "execution_count": 34,
   "metadata": {},
   "outputs": [],
   "source": [
    "kt.update()"
   ]
  },
  {
   "cell_type": "code",
   "execution_count": 35,
   "metadata": {},
   "outputs": [],
   "source": [
    "kt.write_all_registers()"
   ]
  },
  {
   "cell_type": "code",
   "execution_count": 36,
   "metadata": {},
   "outputs": [
    {
     "name": "stdout",
     "output_type": "stream",
     "text": [
      "\n",
      "<< 0x02 >>       :  ('0x44', '0b1000100')\n",
      "[ CHSEL_0 ]    :  0\n",
      "[ RFGAIN_3 ]   :  1\n",
      "[ Reserved_4 ] :  0\n",
      "[ MUTE ]       :  0\n",
      "[ PLTADJ ]     :  1\n",
      "[ Reserved_1 ] :  0\n",
      "[ PHTCNST ]    :  0\n"
     ]
    }
   ],
   "source": [
    "kt.print_register_by_address(2)"
   ]
  },
  {
   "cell_type": "code",
   "execution_count": 37,
   "metadata": {},
   "outputs": [
    {
     "data": {
      "text/plain": [
       "[(0, '0x00', 120),\n",
       " (1, '0x01', 195),\n",
       " (2, '0x02', 68),\n",
       " (4, '0x04', 130),\n",
       " (11, '0x0B', 0),\n",
       " (12, '0x0C', 0),\n",
       " (14, '0x0E', 2),\n",
       " (15, '0x0F', 0),\n",
       " (16, '0x10', 0),\n",
       " (18, '0x12', 0),\n",
       " (19, '0x13', 128),\n",
       " (20, '0x14', 0),\n",
       " (21, '0x15', 224),\n",
       " (22, '0x16', 0),\n",
       " (23, '0x17', 32),\n",
       " (30, '0x1E', 0),\n",
       " (38, '0x26', 128),\n",
       " (39, '0x27', 0)]"
      ]
     },
     "execution_count": 37,
     "metadata": {},
     "output_type": "execute_result"
    }
   ],
   "source": [
    "kt.read_all_registers()"
   ]
  },
  {
   "cell_type": "code",
   "execution_count": 38,
   "metadata": {
    "scrolled": false
   },
   "outputs": [
    {
     "name": "stdout",
     "output_type": "stream",
     "text": [
      "\n",
      "<< 0x00 >>      :  ('0x78', '0b1111000')\n",
      "[ CHSEL_8_1 ] :  120\n",
      "\n",
      "<< 0x01 >>       :  ('0xc3', '0b11000011')\n",
      "[ RFGAIN_1_0 ] :  3\n",
      "[ PGA ]        :  0\n",
      "[ CHSEL_11_9 ] :  3\n",
      "\n",
      "<< 0x02 >>       :  ('0x44', '0b1000100')\n",
      "[ CHSEL_0 ]    :  0\n",
      "[ RFGAIN_3 ]   :  1\n",
      "[ Reserved_4 ] :  0\n",
      "[ MUTE ]       :  0\n",
      "[ PLTADJ ]     :  1\n",
      "[ Reserved_1 ] :  0\n",
      "[ PHTCNST ]    :  0\n",
      "\n",
      "<< 0x04 >>       :  ('0x82', '0b10000010')\n",
      "[ ALC_EN ]     :  1\n",
      "[ MONO ]       :  0\n",
      "[ PGA_LSB ]    :  0\n",
      "[ Reserved_2 ] :  0\n",
      "[ BASS ]       :  2\n",
      "\n",
      "<< 0x0B >>       :  ('0x0', '0b0')\n",
      "[ Standby ]    :  0\n",
      "[ Reserved_6 ] :  0\n",
      "[ PDPA ]       :  0\n",
      "[ Reserved_4 ] :  0\n",
      "[ Reserved_3 ] :  0\n",
      "[ AUTO_PADN ]  :  0\n",
      "[ Reserved_1 ] :  0\n",
      "[ Reserved_0 ] :  0\n",
      "\n",
      "<< 0x0C >>            :  ('0x0', '0b0')\n",
      "[ ALC_DECAY_TIME ]  :  0\n",
      "[ ALC_ATTACK_TIME ] :  0\n",
      "\n",
      "<< 0x0E >>       :  ('0x2', '0b10')\n",
      "[ Reserved_2 ] :  0\n",
      "[ PA_BIAS ]    :  1\n",
      "[ Reserved_0 ] :  0\n",
      "\n",
      "<< 0x0F >>       :  ('0x0', '0b0')\n",
      "[ Reserved_7 ] :  0\n",
      "[ Reserved_6 ] :  0\n",
      "[ Reserved_5 ] :  0\n",
      "[ PW_OK ]      :  0\n",
      "[ Reserved_3 ] :  0\n",
      "[ SLNCID ]     :  0\n",
      "[ Reserved_1 ] :  0\n",
      "[ Reserved_0 ] :  0\n",
      "\n",
      "<< 0x10 >>       :  ('0x0', '0b0')\n",
      "[ Reserved_5 ] :  0\n",
      "[ Reserved_3 ] :  0\n",
      "[ Reserved_1 ] :  0\n",
      "[ PGAMOD ]     :  0\n",
      "\n",
      "<< 0x12 >>    :  ('0x0', '0b0')\n",
      "[ SLNCDIS ] :  0\n",
      "[ SLNCTHL ] :  0\n",
      "[ SLNCTHH ] :  0\n",
      "[ SW_MOD ]  :  0\n",
      "\n",
      "<< 0x13 >>       :  ('0x80', '0b10000000')\n",
      "[ RFGAIN_2 ]   :  1\n",
      "[ Reserved_3 ] :  0\n",
      "[ PA_CTRL ]    :  0\n",
      "[ Reserved_0 ] :  0\n",
      "\n",
      "<< 0x14 >>         :  ('0x0', '0b0')\n",
      "[ SLNCTIME_2_0 ] :  0\n",
      "[ SLNCCNTHIGH ]  :  0\n",
      "[ Reserved_1 ]   :  0\n",
      "[ SLNCTIME_3 ]   :  0\n",
      "\n",
      "<< 0x15 >>       :  ('0xe0', '0b11100000')\n",
      "[ ALCCMPGAIN ] :  7\n",
      "[ Reserved_0 ] :  0\n",
      "\n",
      "<< 0x16 >>       :  ('0x0', '0b0')\n",
      "[ Reserved_3 ] :  0\n",
      "[ SLNCCNTLOW ] :  0\n",
      "\n",
      "<< 0x17 >>       :  ('0x20', '0b100000')\n",
      "[ Reserved_7 ] :  0\n",
      "[ FDEV ]       :  0\n",
      "[ AU_ENHANCE ] :  1\n",
      "[ Reserved_4 ] :  0\n",
      "[ XTAL_SEL ]   :  0\n",
      "[ Reserved_0 ] :  0\n",
      "\n",
      "<< 0x1E >>       :  ('0x0', '0b0')\n",
      "[ Reserved_7 ] :  0\n",
      "[ DCLK ]       :  0\n",
      "[ XTALD ]      :  0\n",
      "[ Reserved_4 ] :  0\n",
      "[ REF_CLK ]    :  0\n",
      "\n",
      "<< 0x26 >>       :  ('0x80', '0b10000000')\n",
      "[ ALCHOLD ]    :  4\n",
      "[ Reserved_4 ] :  0\n",
      "[ ALCHIGHTH ]  :  0\n",
      "[ Reserved_0 ] :  0\n",
      "\n",
      "<< 0x27 >>       :  ('0x0', '0b0')\n",
      "[ Reserved_4 ] :  0\n",
      "[ ALCLOWTH ]   :  0\n"
     ]
    }
   ],
   "source": [
    "kt.print()"
   ]
  },
  {
   "cell_type": "markdown",
   "metadata": {},
   "source": [
    "## Registers values of default configuration"
   ]
  },
  {
   "cell_type": "code",
   "execution_count": 39,
   "metadata": {},
   "outputs": [],
   "source": [
    "FACTORY_DEFAULT_REGISTERS_VALUES = ((0x00, 0x5c),\n",
    "                                    (0x01, 0xc3),\n",
    "                                    (0x02, 0x40),\n",
    "                                    (0x04, 0x00),\n",
    "                                    (0x0b, 0x00),\n",
    "                                    (0x0c, 0x00),\n",
    "                                    (0x0e, 0x02),\n",
    "                                    (0x0f, 0x00),\n",
    "                                    (0x10, 0x00),\n",
    "                                    (0x12, 0x80),\n",
    "                                    (0x13, 0x80),\n",
    "                                    (0x14, 0x00),\n",
    "                                    (0x15, 0xe0),\n",
    "                                    (0x16, 0x00),\n",
    "                                    (0x17, 0x00),\n",
    "                                    (0x1e, 0x00),\n",
    "                                    (0x26, 0xa0),\n",
    "                                    (0x27, 0x00))"
   ]
  },
  {
   "cell_type": "code",
   "execution_count": 40,
   "metadata": {},
   "outputs": [],
   "source": [
    "kt.init()\n",
    "initial_registers_values = kt.registers_values"
   ]
  },
  {
   "cell_type": "code",
   "execution_count": 41,
   "metadata": {},
   "outputs": [],
   "source": [
    "kt.map.reset()\n",
    "default_registers_values = kt.registers_values"
   ]
  },
  {
   "cell_type": "code",
   "execution_count": 42,
   "metadata": {},
   "outputs": [],
   "source": [
    "kt.read_all_registers()\n",
    "read_back_registers_values = kt.registers_values"
   ]
  },
  {
   "cell_type": "code",
   "execution_count": 43,
   "metadata": {},
   "outputs": [
    {
     "data": {
      "text/html": [
       "<div>\n",
       "<style scoped>\n",
       "    .dataframe tbody tr th:only-of-type {\n",
       "        vertical-align: middle;\n",
       "    }\n",
       "\n",
       "    .dataframe tbody tr th {\n",
       "        vertical-align: top;\n",
       "    }\n",
       "\n",
       "    .dataframe thead th {\n",
       "        text-align: right;\n",
       "    }\n",
       "</style>\n",
       "<table border=\"1\" class=\"dataframe\">\n",
       "  <thead>\n",
       "    <tr style=\"text-align: right;\">\n",
       "      <th></th>\n",
       "      <th>register</th>\n",
       "      <th>address</th>\n",
       "      <th>default_value</th>\n",
       "      <th>element_name</th>\n",
       "      <th>idx_lowest_bit</th>\n",
       "      <th>n_bits</th>\n",
       "      <th>read_only</th>\n",
       "      <th>value</th>\n",
       "      <th>value_2</th>\n",
       "      <th>different</th>\n",
       "    </tr>\n",
       "  </thead>\n",
       "  <tbody>\n",
       "    <tr>\n",
       "      <th>0</th>\n",
       "      <td>0x00</td>\n",
       "      <td>0</td>\n",
       "      <td>92</td>\n",
       "      <td>CHSEL_8_1</td>\n",
       "      <td>0</td>\n",
       "      <td>8</td>\n",
       "      <td>False</td>\n",
       "      <td>92</td>\n",
       "      <td>120</td>\n",
       "      <td>1</td>\n",
       "    </tr>\n",
       "    <tr>\n",
       "      <th>8</th>\n",
       "      <td>0x02</td>\n",
       "      <td>2</td>\n",
       "      <td>68</td>\n",
       "      <td>PLTADJ</td>\n",
       "      <td>2</td>\n",
       "      <td>1</td>\n",
       "      <td>False</td>\n",
       "      <td>0</td>\n",
       "      <td>1</td>\n",
       "      <td>1</td>\n",
       "    </tr>\n",
       "    <tr>\n",
       "      <th>11</th>\n",
       "      <td>0x04</td>\n",
       "      <td>4</td>\n",
       "      <td>130</td>\n",
       "      <td>ALC_EN</td>\n",
       "      <td>7</td>\n",
       "      <td>1</td>\n",
       "      <td>False</td>\n",
       "      <td>0</td>\n",
       "      <td>1</td>\n",
       "      <td>1</td>\n",
       "    </tr>\n",
       "    <tr>\n",
       "      <th>15</th>\n",
       "      <td>0x04</td>\n",
       "      <td>4</td>\n",
       "      <td>130</td>\n",
       "      <td>BASS</td>\n",
       "      <td>0</td>\n",
       "      <td>2</td>\n",
       "      <td>False</td>\n",
       "      <td>0</td>\n",
       "      <td>2</td>\n",
       "      <td>1</td>\n",
       "    </tr>\n",
       "    <tr>\n",
       "      <th>41</th>\n",
       "      <td>0x12</td>\n",
       "      <td>18</td>\n",
       "      <td>0</td>\n",
       "      <td>SLNCDIS</td>\n",
       "      <td>7</td>\n",
       "      <td>1</td>\n",
       "      <td>False</td>\n",
       "      <td>1</td>\n",
       "      <td>0</td>\n",
       "      <td>1</td>\n",
       "    </tr>\n",
       "    <tr>\n",
       "      <th>59</th>\n",
       "      <td>0x17</td>\n",
       "      <td>23</td>\n",
       "      <td>32</td>\n",
       "      <td>AU_ENHANCE</td>\n",
       "      <td>5</td>\n",
       "      <td>1</td>\n",
       "      <td>False</td>\n",
       "      <td>0</td>\n",
       "      <td>1</td>\n",
       "      <td>1</td>\n",
       "    </tr>\n",
       "    <tr>\n",
       "      <th>68</th>\n",
       "      <td>0x26</td>\n",
       "      <td>38</td>\n",
       "      <td>128</td>\n",
       "      <td>ALCHOLD</td>\n",
       "      <td>5</td>\n",
       "      <td>3</td>\n",
       "      <td>False</td>\n",
       "      <td>5</td>\n",
       "      <td>4</td>\n",
       "      <td>1</td>\n",
       "    </tr>\n",
       "  </tbody>\n",
       "</table>\n",
       "</div>"
      ],
      "text/plain": [
       "   register  address  default_value element_name  idx_lowest_bit  n_bits  \\\n",
       "0      0x00        0             92    CHSEL_8_1               0       8   \n",
       "8      0x02        2             68       PLTADJ               2       1   \n",
       "11     0x04        4            130       ALC_EN               7       1   \n",
       "15     0x04        4            130         BASS               0       2   \n",
       "41     0x12       18              0      SLNCDIS               7       1   \n",
       "59     0x17       23             32   AU_ENHANCE               5       1   \n",
       "68     0x26       38            128      ALCHOLD               5       3   \n",
       "\n",
       "    read_only  value  value_2  different  \n",
       "0       False     92      120          1  \n",
       "8       False      0        1          1  \n",
       "11      False      0        1          1  \n",
       "15      False      0        2          1  \n",
       "41      False      1        0          1  \n",
       "59      False      0        1          1  \n",
       "68      False      5        4          1  "
      ]
     },
     "execution_count": 43,
     "metadata": {},
     "output_type": "execute_result"
    }
   ],
   "source": [
    "df = kt.map.compare_values_sets_pd(FACTORY_DEFAULT_REGISTERS_VALUES, initial_registers_values)\n",
    "df[df.different == 1]"
   ]
  },
  {
   "cell_type": "code",
   "execution_count": 44,
   "metadata": {
    "scrolled": false
   },
   "outputs": [
    {
     "data": {
      "text/html": [
       "<div>\n",
       "<style scoped>\n",
       "    .dataframe tbody tr th:only-of-type {\n",
       "        vertical-align: middle;\n",
       "    }\n",
       "\n",
       "    .dataframe tbody tr th {\n",
       "        vertical-align: top;\n",
       "    }\n",
       "\n",
       "    .dataframe thead th {\n",
       "        text-align: right;\n",
       "    }\n",
       "</style>\n",
       "<table border=\"1\" class=\"dataframe\">\n",
       "  <thead>\n",
       "    <tr style=\"text-align: right;\">\n",
       "      <th></th>\n",
       "      <th>register</th>\n",
       "      <th>address</th>\n",
       "      <th>default_value</th>\n",
       "      <th>element_name</th>\n",
       "      <th>idx_lowest_bit</th>\n",
       "      <th>n_bits</th>\n",
       "      <th>read_only</th>\n",
       "      <th>value</th>\n",
       "      <th>value_2</th>\n",
       "      <th>different</th>\n",
       "    </tr>\n",
       "  </thead>\n",
       "  <tbody>\n",
       "    <tr>\n",
       "      <th>0</th>\n",
       "      <td>0x00</td>\n",
       "      <td>0</td>\n",
       "      <td>92</td>\n",
       "      <td>CHSEL_8_1</td>\n",
       "      <td>0</td>\n",
       "      <td>8</td>\n",
       "      <td>False</td>\n",
       "      <td>92</td>\n",
       "      <td>120</td>\n",
       "      <td>1</td>\n",
       "    </tr>\n",
       "  </tbody>\n",
       "</table>\n",
       "</div>"
      ],
      "text/plain": [
       "  register  address  default_value element_name  idx_lowest_bit  n_bits  \\\n",
       "0     0x00        0             92    CHSEL_8_1               0       8   \n",
       "\n",
       "   read_only  value  value_2  different  \n",
       "0      False     92      120          1  "
      ]
     },
     "execution_count": 44,
     "metadata": {},
     "output_type": "execute_result"
    }
   ],
   "source": [
    "df = kt.map.compare_values_sets_pd(default_registers_values, initial_registers_values)\n",
    "df[df.different == 1]"
   ]
  },
  {
   "cell_type": "code",
   "execution_count": 45,
   "metadata": {
    "scrolled": false
   },
   "outputs": [
    {
     "data": {
      "text/html": [
       "<div>\n",
       "<style scoped>\n",
       "    .dataframe tbody tr th:only-of-type {\n",
       "        vertical-align: middle;\n",
       "    }\n",
       "\n",
       "    .dataframe tbody tr th {\n",
       "        vertical-align: top;\n",
       "    }\n",
       "\n",
       "    .dataframe thead th {\n",
       "        text-align: right;\n",
       "    }\n",
       "</style>\n",
       "<table border=\"1\" class=\"dataframe\">\n",
       "  <thead>\n",
       "    <tr style=\"text-align: right;\">\n",
       "      <th></th>\n",
       "      <th>register</th>\n",
       "      <th>address</th>\n",
       "      <th>default_value</th>\n",
       "      <th>element_name</th>\n",
       "      <th>idx_lowest_bit</th>\n",
       "      <th>n_bits</th>\n",
       "      <th>read_only</th>\n",
       "      <th>value</th>\n",
       "      <th>value_2</th>\n",
       "      <th>different</th>\n",
       "    </tr>\n",
       "  </thead>\n",
       "  <tbody>\n",
       "  </tbody>\n",
       "</table>\n",
       "</div>"
      ],
      "text/plain": [
       "Empty DataFrame\n",
       "Columns: [register, address, default_value, element_name, idx_lowest_bit, n_bits, read_only, value, value_2, different]\n",
       "Index: []"
      ]
     },
     "execution_count": 45,
     "metadata": {},
     "output_type": "execute_result"
    }
   ],
   "source": [
    "df = kt.map.compare_values_sets_pd(initial_registers_values, read_back_registers_values)\n",
    "df[df.different == 1]"
   ]
  }
 ],
 "metadata": {
  "kernelspec": {
   "display_name": "Python 3",
   "language": "python",
   "name": "python3"
  },
  "language_info": {
   "codemirror_mode": {
    "name": "ipython",
    "version": 3
   },
   "file_extension": ".py",
   "mimetype": "text/x-python",
   "name": "python",
   "nbconvert_exporter": "python",
   "pygments_lexer": "ipython3",
   "version": "3.6.10"
  }
 },
 "nbformat": 4,
 "nbformat_minor": 2
}
