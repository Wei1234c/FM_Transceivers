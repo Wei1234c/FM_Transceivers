{
 "cells": [
  {
   "cell_type": "markdown",
   "metadata": {},
   "source": [
    "# RDA5820N Functional Test \n",
    "- https://datasheet.lcsc.com/szlcsc/RDA-Microelectronics-RDA5820NS_C167244.pdf\n",
    "- http://news.eeworld.com.cn/mcu/article_2017011333300.html"
   ]
  },
  {
   "cell_type": "code",
   "execution_count": 1,
   "metadata": {},
   "outputs": [],
   "source": [
    "import os, sys\n",
    "\n",
    "def gen_relative_path(target_path): \n",
    "    \n",
    "    def del_same_parents(target_path, current_path):\n",
    "        if len(target_path) * len(current_path) > 0:\n",
    "            if target_path[0] == current_path[0]:\n",
    "                target_path.pop(0)\n",
    "                current_path.pop(0)\n",
    "                del_same_parents(target_path, current_path)\n",
    "            \n",
    "    current_path = os.getcwd().replace('\\\\', '/').split('/')\n",
    "    target_path = target_path.replace('\\\\', '/').split('/')\n",
    "    del_same_parents(target_path, current_path)\n",
    "    \n",
    "    return ['..'] * len(current_path) + target_path\n",
    "\n",
    "\n",
    "def append_source_relative_path(source_relative_path):\n",
    "    sys.path.append(os.sep.join(source_relative_path))"
   ]
  },
  {
   "cell_type": "code",
   "execution_count": 2,
   "metadata": {},
   "outputs": [],
   "source": [
    "# paths = [' ']\n",
    "# paths = [gen_relative_path(p) for p in paths]\n",
    "# print(paths)"
   ]
  },
  {
   "cell_type": "code",
   "execution_count": 3,
   "metadata": {},
   "outputs": [],
   "source": [
    "paths =[['..', '..', '..', '..', '..', 'Signal Generators', 'bitbucket', 'github', 'codes'],\n",
    "        ['..', '..', '..', '..', '..', 'FX2LP', 'bitbucket', 'github', 'codes'], \n",
    "        ['..', '..', '..', '..', '..', 'Utilities', 'bitbucket', 'github', 'codes'],\n",
    "        ['..', '..', 'codes']]\n",
    "\n",
    "for path in paths:\n",
    "    append_source_relative_path(path)"
   ]
  },
  {
   "cell_type": "code",
   "execution_count": 4,
   "metadata": {},
   "outputs": [
    {
     "name": "stdout",
     "output_type": "stream",
     "text": [
      "Populating the interactive namespace from numpy and matplotlib\n"
     ]
    }
   ],
   "source": [
    "%pylab inline\n",
    " \n",
    "from array import array\n",
    "from utilities.adapters import peripherals\n",
    "from fm_transceivers import RDA5820N\n",
    "import fx2lp"
   ]
  },
  {
   "cell_type": "markdown",
   "metadata": {},
   "source": [
    "## Debug mode?"
   ]
  },
  {
   "cell_type": "code",
   "execution_count": 5,
   "metadata": {
    "scrolled": false
   },
   "outputs": [],
   "source": [
    "cls = RDA5820N\n",
    "\n",
    "cls.DEBUG_MODE_SHOW_BUS_DATA = False         # whether to show bus data. \n",
    "cls.DEBUG_MODE_PRINT_REGISTER = False        # whether to print registers. "
   ]
  },
  {
   "cell_type": "markdown",
   "metadata": {},
   "source": [
    "## Generators"
   ]
  },
  {
   "cell_type": "code",
   "execution_count": 6,
   "metadata": {},
   "outputs": [
    {
     "name": "stdout",
     "output_type": "stream",
     "text": [
      "\n",
      "****** Virtual device. Data may not be real ! ******\n",
      "\n"
     ]
    }
   ],
   "source": [
    "with_hardware_device = False\n",
    "\n",
    "if with_hardware_device:\n",
    "    _i2c = peripherals.I2C.get_Ftdi_i2c()\n",
    "else:\n",
    "    _i2c = None  # using None for testing without actual hardware device.\n",
    "    \n",
    "bus = peripherals.I2C(_i2c)"
   ]
  },
  {
   "cell_type": "code",
   "execution_count": 7,
   "metadata": {},
   "outputs": [],
   "source": [
    "bus = fx2lp.I2C(as_400KHz = True)"
   ]
  },
  {
   "cell_type": "code",
   "execution_count": 88,
   "metadata": {},
   "outputs": [],
   "source": [
    "# freq = 88.80e6\n",
    "# freq = 97.7e6\n",
    "\n",
    "# rda = RDA5820N(bus, freq = 97.7e6, work_mode = 'Receiver', tx_power_dBm = 3)\n",
    "\n",
    "rda = RDA5820N(bus, freq = 88.8e6, work_mode = 'Transmitter',\n",
    "               emphasis_us = 75, \n",
    "               audio_deviation = 0xFF,\n",
    "               input_level_v = 0.6, \n",
    "               adc_gain = 7, \n",
    "               tx_power_dBm = 3,\n",
    "               volume = 1)\n",
    "\n",
    "# rda = RDA5820N(bus, work_mode = 'Audio_Amplifier')\n",
    "\n",
    "initial_registers_values = rda.registers_values"
   ]
  },
  {
   "cell_type": "markdown",
   "metadata": {},
   "source": [
    "## Noise Level Measurement"
   ]
  },
  {
   "cell_type": "code",
   "execution_count": null,
   "metadata": {},
   "outputs": [],
   "source": [
    "plt.figure(figsize = (15, 5))\n",
    " \n",
    "noise_levels = rda.receiver.scan_noise_levels(freq_start = 88.9e6, freq_end = 90e6, wait_seconds = 0.3)\n",
    "# noise_levels = rda.receiver.scan_noise_levels()\n",
    "nl = np.array(noise_levels).T\n",
    "plt.plot(nl[0] / 1e6, nl[1]);\n",
    "# plt.bar(nl[0] / 1e6, nl[1], orientation = 'vertical');"
   ]
  },
  {
   "cell_type": "code",
   "execution_count": null,
   "metadata": {
    "scrolled": true
   },
   "outputs": [],
   "source": [
    "noise_levels_sorted = sorted(noise_levels, key = lambda x: x[1])\n",
    "noise_levels_sorted"
   ]
  },
  {
   "cell_type": "markdown",
   "metadata": {},
   "source": [
    "## RDS"
   ]
  },
  {
   "cell_type": "code",
   "execution_count": 18,
   "metadata": {},
   "outputs": [],
   "source": [
    "# rda.rds.set_rds(program_id = 0x0520,\n",
    "#                 station_name = \"Wei Lin\",\n",
    "#                 radio_text = \"My Radio Station !\",\n",
    "#                 program_type_code = 4,\n",
    "#                 repeat_count = 3, message_count = 1, rds_mix_ratio = 50,  \n",
    "#                 rds_fifo_size = 20,\n",
    "#                 enable = True)"
   ]
  },
  {
   "cell_type": "code",
   "execution_count": 19,
   "metadata": {},
   "outputs": [],
   "source": [
    "# while True:\n",
    "#     rda.rda.set_rds_buffer(message = time.strftime(\"%Y-%m-%d %H:%M:%S\"), use_FIFO = True)\n",
    "#     time.sleep(10)"
   ]
  },
  {
   "cell_type": "code",
   "execution_count": 20,
   "metadata": {},
   "outputs": [],
   "source": [
    "# rda.rda.set_rds(enable = False)"
   ]
  },
  {
   "cell_type": "markdown",
   "metadata": {},
   "source": [
    "## Member functions test"
   ]
  },
  {
   "cell_type": "code",
   "execution_count": 10,
   "metadata": {},
   "outputs": [],
   "source": [
    "# for f in dir(RDA5820N):\n",
    "#     if not f.startswith('_'):\n",
    "#         if f.islower():\n",
    "#             if callable(getattr(RDA5820N, f)):\n",
    "#                 print('rda.{}()'.format(f))"
   ]
  },
  {
   "cell_type": "code",
   "execution_count": 11,
   "metadata": {},
   "outputs": [],
   "source": [
    "# rda.apply_signal()"
   ]
  },
  {
   "cell_type": "code",
   "execution_count": 12,
   "metadata": {},
   "outputs": [],
   "source": [
    "rda.dsp._enable_soft_blend(False)"
   ]
  },
  {
   "cell_type": "code",
   "execution_count": 13,
   "metadata": {},
   "outputs": [],
   "source": [
    "rda.close()"
   ]
  },
  {
   "cell_type": "code",
   "execution_count": 14,
   "metadata": {},
   "outputs": [],
   "source": [
    "rda.enable()"
   ]
  },
  {
   "cell_type": "code",
   "execution_count": 15,
   "metadata": {},
   "outputs": [],
   "source": [
    "rda.enable_output(False)"
   ]
  },
  {
   "cell_type": "code",
   "execution_count": 16,
   "metadata": {},
   "outputs": [],
   "source": [
    "rda.enable_output(True)"
   ]
  },
  {
   "cell_type": "code",
   "execution_count": 17,
   "metadata": {},
   "outputs": [],
   "source": [
    "rda.mute(True)"
   ]
  },
  {
   "cell_type": "code",
   "execution_count": 18,
   "metadata": {},
   "outputs": [
    {
     "data": {
      "text/plain": [
       "False"
      ]
     },
     "execution_count": 18,
     "metadata": {},
     "output_type": "execute_result"
    }
   ],
   "source": [
    "rda.stereo = False\n",
    "rda.stereo"
   ]
  },
  {
   "cell_type": "code",
   "execution_count": 19,
   "metadata": {},
   "outputs": [
    {
     "data": {
      "text/plain": [
       "True"
      ]
     },
     "execution_count": 19,
     "metadata": {},
     "output_type": "execute_result"
    }
   ],
   "source": [
    "rda.stereo = True\n",
    "rda.stereo"
   ]
  },
  {
   "cell_type": "code",
   "execution_count": 20,
   "metadata": {},
   "outputs": [],
   "source": [
    "rda.mute(False)"
   ]
  },
  {
   "cell_type": "code",
   "execution_count": 21,
   "metadata": {},
   "outputs": [],
   "source": [
    "rda.pause()"
   ]
  },
  {
   "cell_type": "code",
   "execution_count": 22,
   "metadata": {},
   "outputs": [],
   "source": [
    "rda.resume()"
   ]
  },
  {
   "cell_type": "code",
   "execution_count": 23,
   "metadata": {},
   "outputs": [],
   "source": [
    "rda.reset()"
   ]
  },
  {
   "cell_type": "code",
   "execution_count": 24,
   "metadata": {},
   "outputs": [],
   "source": [
    "rda.set_frequency(88.9e6)"
   ]
  },
  {
   "cell_type": "code",
   "execution_count": 25,
   "metadata": {},
   "outputs": [],
   "source": [
    "rda.set_frequency(88.8e6)"
   ]
  },
  {
   "cell_type": "code",
   "execution_count": 26,
   "metadata": {},
   "outputs": [],
   "source": [
    "rda.transmitter.set_power(-32)"
   ]
  },
  {
   "cell_type": "code",
   "execution_count": 27,
   "metadata": {},
   "outputs": [],
   "source": [
    "rda.transmitter.set_power(3)"
   ]
  },
  {
   "cell_type": "code",
   "execution_count": 28,
   "metadata": {},
   "outputs": [],
   "source": [
    "rda.init()"
   ]
  },
  {
   "cell_type": "code",
   "execution_count": 29,
   "metadata": {},
   "outputs": [],
   "source": [
    "rda.set_work_mode('Audio_Amplifier')"
   ]
  },
  {
   "cell_type": "code",
   "execution_count": 30,
   "metadata": {},
   "outputs": [],
   "source": [
    "rda.set_work_mode(mode = 'Transmitter')\n",
    "rda.tuner.set_frequency(88.8e6)"
   ]
  },
  {
   "cell_type": "code",
   "execution_count": 31,
   "metadata": {},
   "outputs": [],
   "source": [
    "rda.set_work_mode('Receiver')\n",
    "rda.tuner.set_frequency(97.7e6)"
   ]
  },
  {
   "cell_type": "code",
   "execution_count": 32,
   "metadata": {},
   "outputs": [],
   "source": [
    "rda.start()"
   ]
  },
  {
   "cell_type": "code",
   "execution_count": 33,
   "metadata": {},
   "outputs": [],
   "source": [
    "rda.stop()"
   ]
  },
  {
   "cell_type": "code",
   "execution_count": 34,
   "metadata": {},
   "outputs": [],
   "source": [
    "rda.toggle()"
   ]
  },
  {
   "cell_type": "code",
   "execution_count": 35,
   "metadata": {},
   "outputs": [],
   "source": [
    "rda.update()"
   ]
  },
  {
   "cell_type": "code",
   "execution_count": 36,
   "metadata": {},
   "outputs": [],
   "source": [
    "rda.write_all_registers()"
   ]
  },
  {
   "cell_type": "code",
   "execution_count": 37,
   "metadata": {},
   "outputs": [
    {
     "name": "stdout",
     "output_type": "stream",
     "text": [
      "\n",
      "<< 0x05 >>         :  ('0x8881', '0b1000100010000001')\n",
      "[ INT_MODE ]     :  1\n",
      "[ SEEK_MODE ]    :  0\n",
      "[ Reserved_12 ]  :  0\n",
      "[ SEEKTH ]       :  8\n",
      "[ LNA_PORT_SEL ] :  2\n",
      "[ Reserved_4 ]   :  0\n",
      "[ VOLUME ]       :  1\n"
     ]
    }
   ],
   "source": [
    "rda.print_register_by_address(5)"
   ]
  },
  {
   "cell_type": "code",
   "execution_count": 38,
   "metadata": {},
   "outputs": [
    {
     "data": {
      "text/plain": [
       "[(0, '0x00', 22560),\n",
       " (2, '0x02', 53761),\n",
       " (3, '0x03', 6848),\n",
       " (4, '0x04', 17408),\n",
       " (5, '0x05', 34945),\n",
       " (6, '0x06', 2048),\n",
       " (7, '0x07', 24260),\n",
       " (10, '0x0A', 16491),\n",
       " (11, '0x0B', 1551),\n",
       " (12, '0x0C', 0),\n",
       " (13, '0x0D', 0),\n",
       " (14, '0x0E', 0),\n",
       " (15, '0x0F', 0),\n",
       " (64, '0x40', 0),\n",
       " (65, '0x41', 2367),\n",
       " (103, '0x67', 3600),\n",
       " (104, '0x68', 4095)]"
      ]
     },
     "execution_count": 38,
     "metadata": {},
     "output_type": "execute_result"
    }
   ],
   "source": [
    "rda.read_all_registers()"
   ]
  },
  {
   "cell_type": "code",
   "execution_count": 39,
   "metadata": {
    "scrolled": false
   },
   "outputs": [
    {
     "name": "stdout",
     "output_type": "stream",
     "text": [
      "\n",
      "<< 0x00 >>   :  ('0x5820', '0b101100000100000')\n",
      "[ CHIPID ] :  22560\n",
      "\n",
      "<< 0x02 >>                    :  ('0xd201', '0b1101001000000001')\n",
      "[ DHIZ ]                    :  1\n",
      "[ DMUTE ]                   :  1\n",
      "[ MONO ]                    :  0\n",
      "[ BASS ]                    :  1\n",
      "[ RCLK_NON_CALIBRATE_MODE ] :  0\n",
      "[ RCLK_DIRECT_INPUT_MODE ]  :  0\n",
      "[ SEEKUP ]                  :  1\n",
      "[ SEEK ]                    :  0\n",
      "[ SKMODE ]                  :  0\n",
      "[ CLK_MODE ]                :  0\n",
      "[ RDS_EN ]                  :  0\n",
      "[ Reserved_2 ]              :  0\n",
      "[ SOFT_RESET ]              :  0\n",
      "[ ENABLE ]                  :  1\n",
      "\n",
      "<< 0x03 >>        :  ('0x1ac0', '0b1101011000000')\n",
      "[ CHAN ]        :  107\n",
      "[ DIRECT_MODE ] :  0\n",
      "[ TUNE ]        :  0\n",
      "[ BAND ]        :  0\n",
      "[ SPACE ]       :  0\n",
      "\n",
      "<< 0x04 >>         :  ('0x4400', '0b100010000000000')\n",
      "[ RDSIEN ]       :  0\n",
      "[ STCIEN ]       :  1\n",
      "[ RBDS ]         :  0\n",
      "[ RDS_FIFO_EN ]  :  0\n",
      "[ DE ]           :  0\n",
      "[ RDS_FIFO_CLR ] :  1\n",
      "[ SOFTMUTE_EN ]  :  0\n",
      "[ AFCD ]         :  0\n",
      "[ Reserved_7 ]   :  0\n",
      "[ I2S_ENABLED ]  :  0\n",
      "[ GPIO3 ]        :  0\n",
      "[ GPIO2 ]        :  0\n",
      "[ GPIO1 ]        :  0\n",
      "\n",
      "<< 0x05 >>         :  ('0x8881', '0b1000100010000001')\n",
      "[ INT_MODE ]     :  1\n",
      "[ SEEK_MODE ]    :  0\n",
      "[ Reserved_12 ]  :  0\n",
      "[ SEEKTH ]       :  8\n",
      "[ LNA_PORT_SEL ] :  2\n",
      "[ Reserved_4 ]   :  0\n",
      "[ VOLUME ]       :  1\n",
      "\n",
      "<< 0x06 >>        :  ('0x800', '0b100000000000')\n",
      "[ Reserved_13 ] :  0\n",
      "[ I2S_MODE ]    :  0\n",
      "[ SW_LR ]       :  1\n",
      "[ SCLK_I_EDGE ] :  0\n",
      "[ DATA_SIGNED ] :  0\n",
      "[ WS_I_EDGE ]   :  0\n",
      "[ I2S_SW_CNT ]  :  0\n",
      "[ SW_O_EDGE ]   :  0\n",
      "[ SCLK_O_EDGE ] :  0\n",
      "[ L_DELY ]      :  0\n",
      "[ R_DELY ]      :  0\n",
      "\n",
      "<< 0x07 >>         :  ('0x5ec4', '0b101111011000100')\n",
      "[ Reserved_15 ]  :  0\n",
      "[ TH_SOFRBLEND ] :  23\n",
      "[ 65M_50M_MODE ] :  1\n",
      "[ Reserved_8 ]   :  0\n",
      "[ SEEK_TH_OLD ]  :  49\n",
      "[ SOFTBLEND_EN ] :  0\n",
      "[ FREQ_MODE ]    :  0\n",
      "\n",
      "<< 0x0A >>     :  ('0x406b', '0b100000001101011')\n",
      "[ RDSR ]     :  0\n",
      "[ STC ]      :  1\n",
      "[ SF ]       :  0\n",
      "[ RDSS ]     :  0\n",
      "[ BLK_E ]    :  0\n",
      "[ ST ]       :  0\n",
      "[ READCHAN ] :  107\n",
      "\n",
      "<< 0x0B >>       :  ('0x60f', '0b11000001111')\n",
      "[ RSSI ]       :  3\n",
      "[ FM_TRUE ]    :  0\n",
      "[ FM_READY ]   :  0\n",
      "[ Reserved_5 ] :  0\n",
      "[ ABCD_E ]     :  0\n",
      "[ BLERA ]      :  3\n",
      "[ BLERB ]      :  3\n",
      "\n",
      "<< 0x0C >> :  ('0x0', '0b0')\n",
      "[ RDSA ] :  0\n",
      "\n",
      "<< 0x0D >> :  ('0x0', '0b0')\n",
      "[ RDSB ] :  0\n",
      "\n",
      "<< 0x0E >> :  ('0x0', '0b0')\n",
      "[ RDSC ] :  0\n",
      "\n",
      "<< 0x0F >> :  ('0x0', '0b0')\n",
      "[ RDSD ] :  0\n",
      "\n",
      "<< 0x40 >>       :  ('0x0', '0b0')\n",
      "[ Reserved_4 ] :  0\n",
      "[ WORK_MODE ]  :  0\n",
      "\n",
      "<< 0x41 >>        :  ('0x93f', '0b100100111111')\n",
      "[ Reserved_12 ] :  0\n",
      "[ TXPA_VCOM ]   :  4\n",
      "[ TXPA_IBIT ]   :  4\n",
      "[ TXPA_GAIN ]   :  63\n",
      "\n",
      "<< 0x67 >>           :  ('0xe10', '0b111000010000')\n",
      "[ FMTX_PILOT_DEV ] :  14\n",
      "[ FMTX_RDS__DEV ]  :  16\n",
      "\n",
      "<< 0x68 >>           :  ('0xfff', '0b111111111111')\n",
      "[ Reserved_14 ]    :  0\n",
      "[ FMTX_PGA_GAIN ]  :  1\n",
      "[ FMTX_ADC_GAIN ]  :  7\n",
      "[ FMTX_AUDIO_DEV ] :  255\n"
     ]
    }
   ],
   "source": [
    "rda.print()"
   ]
  },
  {
   "cell_type": "markdown",
   "metadata": {},
   "source": [
    "## Registers values of default configuration"
   ]
  },
  {
   "cell_type": "code",
   "execution_count": 40,
   "metadata": {},
   "outputs": [],
   "source": [
    "DEFAULT_REGISTERS_VALUES = [(0, 22560), (2, 53761), (3, 1168), (4, 17408), (5, 34945), (6, 2048), (7, 24260), (10, 18), (11, 0), (12, 22560), (13, 22560), (14, 22533), (15, 22533), (64, 0), (65, 2367), (103, 3600), (104, 8191)]"
   ]
  },
  {
   "cell_type": "code",
   "execution_count": 41,
   "metadata": {},
   "outputs": [],
   "source": [
    "rda.init()\n",
    "initial_registers_values = rda.registers_values"
   ]
  },
  {
   "cell_type": "code",
   "execution_count": 42,
   "metadata": {},
   "outputs": [],
   "source": [
    "rda.read_all_registers()\n",
    "read_back_registers_values = rda.registers_values"
   ]
  },
  {
   "cell_type": "code",
   "execution_count": 43,
   "metadata": {},
   "outputs": [
    {
     "data": {
      "text/html": [
       "<div>\n",
       "<style scoped>\n",
       "    .dataframe tbody tr th:only-of-type {\n",
       "        vertical-align: middle;\n",
       "    }\n",
       "\n",
       "    .dataframe tbody tr th {\n",
       "        vertical-align: top;\n",
       "    }\n",
       "\n",
       "    .dataframe thead th {\n",
       "        text-align: right;\n",
       "    }\n",
       "</style>\n",
       "<table border=\"1\" class=\"dataframe\">\n",
       "  <thead>\n",
       "    <tr style=\"text-align: right;\">\n",
       "      <th></th>\n",
       "      <th>register</th>\n",
       "      <th>address</th>\n",
       "      <th>default_value</th>\n",
       "      <th>element_name</th>\n",
       "      <th>idx_lowest_bit</th>\n",
       "      <th>n_bits</th>\n",
       "      <th>read_only</th>\n",
       "      <th>value</th>\n",
       "      <th>value_2</th>\n",
       "      <th>different</th>\n",
       "    </tr>\n",
       "  </thead>\n",
       "  <tbody>\n",
       "    <tr>\n",
       "      <th>85</th>\n",
       "      <td>0x68</td>\n",
       "      <td>104</td>\n",
       "      <td>4095</td>\n",
       "      <td>FMTX_PGA_GAIN</td>\n",
       "      <td>11</td>\n",
       "      <td>3</td>\n",
       "      <td>False</td>\n",
       "      <td>1</td>\n",
       "      <td>3</td>\n",
       "      <td>1</td>\n",
       "    </tr>\n",
       "  </tbody>\n",
       "</table>\n",
       "</div>"
      ],
      "text/plain": [
       "   register  address  default_value   element_name  idx_lowest_bit  n_bits  \\\n",
       "85     0x68      104           4095  FMTX_PGA_GAIN              11       3   \n",
       "\n",
       "    read_only  value  value_2  different  \n",
       "85      False      1        3          1  "
      ]
     },
     "execution_count": 43,
     "metadata": {},
     "output_type": "execute_result"
    }
   ],
   "source": [
    "df = rda.map.compare_values_sets_pd(initial_registers_values, DEFAULT_REGISTERS_VALUES)\n",
    "df[df.different == 1]"
   ]
  },
  {
   "cell_type": "code",
   "execution_count": 44,
   "metadata": {
    "scrolled": true
   },
   "outputs": [
    {
     "data": {
      "text/html": [
       "<div>\n",
       "<style scoped>\n",
       "    .dataframe tbody tr th:only-of-type {\n",
       "        vertical-align: middle;\n",
       "    }\n",
       "\n",
       "    .dataframe tbody tr th {\n",
       "        vertical-align: top;\n",
       "    }\n",
       "\n",
       "    .dataframe thead th {\n",
       "        text-align: right;\n",
       "    }\n",
       "</style>\n",
       "<table border=\"1\" class=\"dataframe\">\n",
       "  <thead>\n",
       "    <tr style=\"text-align: right;\">\n",
       "      <th></th>\n",
       "      <th>register</th>\n",
       "      <th>address</th>\n",
       "      <th>default_value</th>\n",
       "      <th>element_name</th>\n",
       "      <th>idx_lowest_bit</th>\n",
       "      <th>n_bits</th>\n",
       "      <th>read_only</th>\n",
       "      <th>value</th>\n",
       "      <th>value_2</th>\n",
       "      <th>different</th>\n",
       "    </tr>\n",
       "  </thead>\n",
       "  <tbody>\n",
       "    <tr>\n",
       "      <th>17</th>\n",
       "      <td>0x03</td>\n",
       "      <td>3</td>\n",
       "      <td>0</td>\n",
       "      <td>TUNE</td>\n",
       "      <td>4</td>\n",
       "      <td>1</td>\n",
       "      <td>False</td>\n",
       "      <td>1</td>\n",
       "      <td>0</td>\n",
       "      <td>1</td>\n",
       "    </tr>\n",
       "    <tr>\n",
       "      <th>42</th>\n",
       "      <td>0x06</td>\n",
       "      <td>6</td>\n",
       "      <td>2048</td>\n",
       "      <td>SW_LR</td>\n",
       "      <td>11</td>\n",
       "      <td>1</td>\n",
       "      <td>False</td>\n",
       "      <td>1</td>\n",
       "      <td>0</td>\n",
       "      <td>1</td>\n",
       "    </tr>\n",
       "    <tr>\n",
       "      <th>59</th>\n",
       "      <td>0x0A</td>\n",
       "      <td>10</td>\n",
       "      <td>1024</td>\n",
       "      <td>STC</td>\n",
       "      <td>14</td>\n",
       "      <td>1</td>\n",
       "      <td>False</td>\n",
       "      <td>0</td>\n",
       "      <td>1</td>\n",
       "      <td>1</td>\n",
       "    </tr>\n",
       "    <tr>\n",
       "      <th>65</th>\n",
       "      <td>0x0B</td>\n",
       "      <td>11</td>\n",
       "      <td>0</td>\n",
       "      <td>RSSI</td>\n",
       "      <td>9</td>\n",
       "      <td>7</td>\n",
       "      <td>False</td>\n",
       "      <td>0</td>\n",
       "      <td>1</td>\n",
       "      <td>1</td>\n",
       "    </tr>\n",
       "    <tr>\n",
       "      <th>70</th>\n",
       "      <td>0x0B</td>\n",
       "      <td>11</td>\n",
       "      <td>0</td>\n",
       "      <td>BLERA</td>\n",
       "      <td>2</td>\n",
       "      <td>2</td>\n",
       "      <td>False</td>\n",
       "      <td>0</td>\n",
       "      <td>3</td>\n",
       "      <td>1</td>\n",
       "    </tr>\n",
       "    <tr>\n",
       "      <th>71</th>\n",
       "      <td>0x0B</td>\n",
       "      <td>11</td>\n",
       "      <td>0</td>\n",
       "      <td>BLERB</td>\n",
       "      <td>0</td>\n",
       "      <td>2</td>\n",
       "      <td>False</td>\n",
       "      <td>0</td>\n",
       "      <td>3</td>\n",
       "      <td>1</td>\n",
       "    </tr>\n",
       "    <tr>\n",
       "      <th>72</th>\n",
       "      <td>0x0C</td>\n",
       "      <td>12</td>\n",
       "      <td>22560</td>\n",
       "      <td>RDSA</td>\n",
       "      <td>0</td>\n",
       "      <td>16</td>\n",
       "      <td>False</td>\n",
       "      <td>22560</td>\n",
       "      <td>0</td>\n",
       "      <td>1</td>\n",
       "    </tr>\n",
       "    <tr>\n",
       "      <th>73</th>\n",
       "      <td>0x0D</td>\n",
       "      <td>13</td>\n",
       "      <td>22560</td>\n",
       "      <td>RDSB</td>\n",
       "      <td>0</td>\n",
       "      <td>16</td>\n",
       "      <td>False</td>\n",
       "      <td>22560</td>\n",
       "      <td>0</td>\n",
       "      <td>1</td>\n",
       "    </tr>\n",
       "    <tr>\n",
       "      <th>74</th>\n",
       "      <td>0x0E</td>\n",
       "      <td>14</td>\n",
       "      <td>22533</td>\n",
       "      <td>RDSC</td>\n",
       "      <td>0</td>\n",
       "      <td>16</td>\n",
       "      <td>False</td>\n",
       "      <td>22533</td>\n",
       "      <td>0</td>\n",
       "      <td>1</td>\n",
       "    </tr>\n",
       "    <tr>\n",
       "      <th>75</th>\n",
       "      <td>0x0F</td>\n",
       "      <td>15</td>\n",
       "      <td>22533</td>\n",
       "      <td>RDSD</td>\n",
       "      <td>0</td>\n",
       "      <td>16</td>\n",
       "      <td>False</td>\n",
       "      <td>22533</td>\n",
       "      <td>0</td>\n",
       "      <td>1</td>\n",
       "    </tr>\n",
       "  </tbody>\n",
       "</table>\n",
       "</div>"
      ],
      "text/plain": [
       "   register  address  default_value element_name  idx_lowest_bit  n_bits  \\\n",
       "17     0x03        3              0         TUNE               4       1   \n",
       "42     0x06        6           2048        SW_LR              11       1   \n",
       "59     0x0A       10           1024          STC              14       1   \n",
       "65     0x0B       11              0         RSSI               9       7   \n",
       "70     0x0B       11              0        BLERA               2       2   \n",
       "71     0x0B       11              0        BLERB               0       2   \n",
       "72     0x0C       12          22560         RDSA               0      16   \n",
       "73     0x0D       13          22560         RDSB               0      16   \n",
       "74     0x0E       14          22533         RDSC               0      16   \n",
       "75     0x0F       15          22533         RDSD               0      16   \n",
       "\n",
       "    read_only  value  value_2  different  \n",
       "17      False      1        0          1  \n",
       "42      False      1        0          1  \n",
       "59      False      0        1          1  \n",
       "65      False      0        1          1  \n",
       "70      False      0        3          1  \n",
       "71      False      0        3          1  \n",
       "72      False  22560        0          1  \n",
       "73      False  22560        0          1  \n",
       "74      False  22533        0          1  \n",
       "75      False  22533        0          1  "
      ]
     },
     "execution_count": 44,
     "metadata": {},
     "output_type": "execute_result"
    }
   ],
   "source": [
    "df = rda.map.compare_values_sets_pd(initial_registers_values, read_back_registers_values)\n",
    "df[df.different == 1]"
   ]
  },
  {
   "cell_type": "markdown",
   "metadata": {},
   "source": [
    "## Logarithmic equation of PA gains"
   ]
  },
  {
   "cell_type": "code",
   "execution_count": 45,
   "metadata": {},
   "outputs": [
    {
     "data": {
      "text/plain": [
       "{3: 63, 0: 39, -1.47: 32, -3: 25, -32: 0}"
      ]
     },
     "execution_count": 45,
     "metadata": {},
     "output_type": "execute_result"
    }
   ],
   "source": [
    "rda.PA_GAINS"
   ]
  },
  {
   "cell_type": "code",
   "execution_count": 46,
   "metadata": {},
   "outputs": [],
   "source": [
    "s = [[v,k] for k, v in rda.PA_GAINS.items()]\n",
    "values = [v[0] for v in s]\n",
    "dbs = [v[1] for v in s]"
   ]
  },
  {
   "cell_type": "code",
   "execution_count": 47,
   "metadata": {},
   "outputs": [
    {
     "data": {
      "text/plain": [
       "([63, 39, 32, 25, 1e-19], [3, 0, -1.47, -3, -32])"
      ]
     },
     "execution_count": 47,
     "metadata": {},
     "output_type": "execute_result"
    }
   ],
   "source": [
    "values[-1] = 1e-19\n",
    "values, dbs"
   ]
  },
  {
   "cell_type": "code",
   "execution_count": 48,
   "metadata": {},
   "outputs": [
    {
     "data": {
      "image/png": "[encoded data removed]",
      "text/plain": [
       "<Figure size 432x288 with 1 Axes>"
      ]
     },
     "metadata": {
      "needs_background": "light"
     },
     "output_type": "display_data"
    }
   ],
   "source": [
    "plt.plot(values, dbs);"
   ]
  },
  {
   "cell_type": "markdown",
   "metadata": {},
   "source": [
    "#### Manual Interpolate"
   ]
  },
  {
   "cell_type": "code",
   "execution_count": 49,
   "metadata": {},
   "outputs": [
    {
     "data": {
      "image/png": "[encoded data removed]",
      "text/plain": [
       "<Figure size 432x288 with 1 Axes>"
      ]
     },
     "metadata": {
      "needs_background": "light"
     },
     "output_type": "display_data"
    }
   ],
   "source": [
    "values = [63, 50, 39,   30, 25, 15,  10,   5, 1e-19]\n",
    "dbs =    [ 3,  1.9,  0, -1.9, -4,-10, -16, -22,   -32]\n",
    "\n",
    "plt.plot(values, dbs);"
   ]
  },
  {
   "cell_type": "markdown",
   "metadata": {},
   "source": [
    "### Poly"
   ]
  },
  {
   "cell_type": "code",
   "execution_count": 50,
   "metadata": {},
   "outputs": [],
   "source": [
    "order = 4\n",
    "pl = np.polyfit(values, dbs, order)"
   ]
  },
  {
   "cell_type": "code",
   "execution_count": 51,
   "metadata": {},
   "outputs": [
    {
     "data": {
      "image/png": "[encoded data removed]",
      "text/plain": [
       "<Figure size 432x288 with 1 Axes>"
      ]
     },
     "metadata": {
      "needs_background": "light"
     },
     "output_type": "display_data"
    }
   ],
   "source": [
    "x = np.linspace(1e-19, 63, 100)\n",
    "y = np.polyval(pl, x) \n",
    "plt.plot(x, y, 'g-');\n",
    "plt.plot(values, dbs, 'r--');"
   ]
  },
  {
   "cell_type": "markdown",
   "metadata": {},
   "source": [
    "### dBm when PA_GAIN is 32"
   ]
  },
  {
   "cell_type": "code",
   "execution_count": 52,
   "metadata": {},
   "outputs": [
    {
     "data": {
      "text/plain": [
       "-1.4708637593712304"
      ]
     },
     "execution_count": 52,
     "metadata": {},
     "output_type": "execute_result"
    }
   ],
   "source": [
    "np.polyval(pl, 32)"
   ]
  },
  {
   "cell_type": "markdown",
   "metadata": {},
   "source": [
    "### Logarithmic\n",
    "doesn't look good"
   ]
  },
  {
   "cell_type": "code",
   "execution_count": 53,
   "metadata": {},
   "outputs": [
    {
     "data": {
      "image/png": "[encoded data removed]",
      "text/plain": [
       "<Figure size 432x288 with 1 Axes>"
      ]
     },
     "metadata": {
      "needs_background": "light"
     },
     "output_type": "display_data"
    }
   ],
   "source": [
    "pl = np.polyfit(np.log(values), dbs, order)\n",
    "y = np.polyval(pl, np.log(x))\n",
    "plt.plot(x, y, 'g-');\n",
    "plt.plot(values, dbs, 'r--');"
   ]
  },
  {
   "cell_type": "markdown",
   "metadata": {},
   "source": [
    "### dBm when PA_GAIN is 32"
   ]
  },
  {
   "cell_type": "code",
   "execution_count": 54,
   "metadata": {},
   "outputs": [
    {
     "data": {
      "text/plain": [
       "-1.4048498922700041"
      ]
     },
     "execution_count": 54,
     "metadata": {},
     "output_type": "execute_result"
    }
   ],
   "source": [
    "np.polyval(pl, np.log(32))"
   ]
  }
 ],
 "metadata": {
  "kernelspec": {
   "display_name": "Python 3",
   "language": "python",
   "name": "python3"
  },
  "language_info": {
   "codemirror_mode": {
    "name": "ipython",
    "version": 3
   },
   "file_extension": ".py",
   "mimetype": "text/x-python",
   "name": "python",
   "nbconvert_exporter": "python",
   "pygments_lexer": "ipython3",
   "version": "3.6.10"
  }
 },
 "nbformat": 4,
 "nbformat_minor": 2
}
