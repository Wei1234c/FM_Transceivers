{
 "cells": [
  {
   "cell_type": "markdown",
   "metadata": {},
   "source": [
    "# AD9833 Functional test with MicroPython Remote\n",
    "- https://www.analog.com/media/en/technical-documentation/data-sheets/ad9833.pdf\n",
    "- https://pypi.org/project/jupyter-micropython-remote/\n",
    "- https://towardsdatascience.com/micropython-on-esp-using-jupyter-6f366ff5ed9"
   ]
  },
  {
   "cell_type": "code",
   "execution_count": null,
   "metadata": {},
   "outputs": [],
   "source": [
    "%local\n",
    "!ls /dev/ttyUSB*"
   ]
  },
  {
   "cell_type": "code",
   "execution_count": 1,
   "metadata": {},
   "outputs": [
    {
     "name": "stdout",
     "output_type": "stream",
     "text": [
      "\u001b[34mConnected on COM3\n",
      "\u001b[0m"
     ]
    }
   ],
   "source": [
    "# %connect /dev/ttyUSB0 --baudrate=115200 --user='micro' --password='python' --wait=0\n",
    "\n",
    "%connect COM3 --baudrate=115200 --user='micro' --password='python' --wait=0"
   ]
  },
  {
   "cell_type": "code",
   "execution_count": 1,
   "metadata": {},
   "outputs": [],
   "source": [
    "# %lsmagic"
   ]
  },
  {
   "cell_type": "markdown",
   "metadata": {},
   "source": [
    "## Generators and Modulators"
   ]
  },
  {
   "cell_type": "code",
   "execution_count": 1,
   "metadata": {},
   "outputs": [],
   "source": [
    "#  for ESP32 ===========================\n",
    "\n",
    "import peripherals\n",
    "from si4713_proxy import Si4713_proxy\n",
    "\n",
    "\n",
    "with_hardware_device = True\n",
    "\n",
    "if with_hardware_device:\n",
    "    _i2c = peripherals.I2C.get_uPy_i2c(id = -1, scl_pin_id = 5, sda_pin_id = 4, freq = 400000)\n",
    "    pin_reset = peripherals.Pin.get_uPy_pin(15, output = True)\n",
    "else:\n",
    "    _i2c = pin_reset = None  # using None for testing without actual hardware device.\n",
    "\n",
    "bus = peripherals.I2C(_i2c)"
   ]
  },
  {
   "cell_type": "code",
   "execution_count": 1,
   "metadata": {},
   "outputs": [
    {
     "name": "stdout",
     "output_type": "stream",
     "text": [
      "frequency: 8.88e+07\r\n",
      "tx_power: 115\r\n"
     ]
    }
   ],
   "source": [
    "freq = 88.8e6\n",
    "\n",
    "si = Si4713_proxy(bus = bus, pin_reset = pin_reset,\n",
    "                  freq = freq, tx_power = 115, stereo = True)\n",
    "\n",
    "print('frequency:', si.frequency)\n",
    "print('tx_power:', si.tx_power)"
   ]
  },
  {
   "cell_type": "markdown",
   "metadata": {},
   "source": [
    "## Member functions test"
   ]
  },
  {
   "cell_type": "code",
   "execution_count": null,
   "metadata": {},
   "outputs": [],
   "source": [
    "# for f in dir(Si4713_proxy):\n",
    "#     if not f.startswith('_'):\n",
    "#         print('si.{}()'.format(f))"
   ]
  },
  {
   "cell_type": "code",
   "execution_count": 1,
   "metadata": {},
   "outputs": [],
   "source": [
    "si.enable(False)"
   ]
  },
  {
   "cell_type": "code",
   "execution_count": 1,
   "metadata": {},
   "outputs": [],
   "source": [
    "si.enable(True)"
   ]
  },
  {
   "cell_type": "code",
   "execution_count": 1,
   "metadata": {},
   "outputs": [],
   "source": [
    "si.set_frequency(88.9e6)"
   ]
  },
  {
   "cell_type": "code",
   "execution_count": 1,
   "metadata": {},
   "outputs": [
    {
     "name": "stdout",
     "output_type": "stream",
     "text": [
      "8.89e+07\r\n"
     ]
    }
   ],
   "source": [
    "print(si.frequency)"
   ]
  },
  {
   "cell_type": "code",
   "execution_count": 1,
   "metadata": {},
   "outputs": [],
   "source": [
    "si.set_frequency(88.8e6)"
   ]
  },
  {
   "cell_type": "code",
   "execution_count": 1,
   "metadata": {},
   "outputs": [
    {
     "name": "stdout",
     "output_type": "stream",
     "text": [
      "8.88e+07\r\n"
     ]
    }
   ],
   "source": [
    "print(si.frequency)"
   ]
  },
  {
   "cell_type": "code",
   "execution_count": 1,
   "metadata": {},
   "outputs": [],
   "source": [
    "si.set_power(88)"
   ]
  },
  {
   "cell_type": "code",
   "execution_count": 1,
   "metadata": {},
   "outputs": [
    {
     "name": "stdout",
     "output_type": "stream",
     "text": [
      "88\r\n"
     ]
    }
   ],
   "source": [
    "print(si.tx_power)"
   ]
  },
  {
   "cell_type": "code",
   "execution_count": 1,
   "metadata": {},
   "outputs": [],
   "source": [
    "si.set_power(115)"
   ]
  },
  {
   "cell_type": "code",
   "execution_count": 1,
   "metadata": {},
   "outputs": [
    {
     "name": "stdout",
     "output_type": "stream",
     "text": [
      "115\r\n"
     ]
    }
   ],
   "source": [
    "print(si.tx_power)"
   ]
  },
  {
   "cell_type": "code",
   "execution_count": 1,
   "metadata": {},
   "outputs": [],
   "source": [
    "si.power_down()"
   ]
  },
  {
   "cell_type": "code",
   "execution_count": 1,
   "metadata": {},
   "outputs": [],
   "source": [
    "si.power_up()"
   ]
  },
  {
   "cell_type": "code",
   "execution_count": 1,
   "metadata": {},
   "outputs": [],
   "source": [
    "si.init()"
   ]
  },
  {
   "cell_type": "code",
   "execution_count": 1,
   "metadata": {},
   "outputs": [],
   "source": [
    "si.power_down()"
   ]
  },
  {
   "cell_type": "code",
   "execution_count": 1,
   "metadata": {},
   "outputs": [],
   "source": [
    "si.reset()"
   ]
  },
  {
   "cell_type": "code",
   "execution_count": 1,
   "metadata": {},
   "outputs": [],
   "source": [
    "si.mute(True)"
   ]
  },
  {
   "cell_type": "code",
   "execution_count": 1,
   "metadata": {},
   "outputs": [],
   "source": [
    "si.mute(False)"
   ]
  },
  {
   "cell_type": "code",
   "execution_count": 1,
   "metadata": {},
   "outputs": [],
   "source": [
    "si.mute_line_input(True)"
   ]
  },
  {
   "cell_type": "code",
   "execution_count": 1,
   "metadata": {},
   "outputs": [],
   "source": [
    "si.mute_line_input(False)"
   ]
  },
  {
   "cell_type": "code",
   "execution_count": 1,
   "metadata": {},
   "outputs": [
    {
     "name": "stdout",
     "output_type": "stream",
     "text": [
      "False\r\n"
     ]
    }
   ],
   "source": [
    "si.stereo = False\n",
    "print(si.stereo)"
   ]
  },
  {
   "cell_type": "code",
   "execution_count": 1,
   "metadata": {},
   "outputs": [
    {
     "name": "stdout",
     "output_type": "stream",
     "text": [
      "True\r\n"
     ]
    }
   ],
   "source": [
    "si.stereo = True\n",
    "print(si.stereo)"
   ]
  },
  {
   "cell_type": "code",
   "execution_count": 1,
   "metadata": {},
   "outputs": [
    {
     "name": "stdout",
     "output_type": "stream",
     "text": [
      "[(1, 199), (257, 0), (259, 0), (513, 32768), (514, 0), (8448, 3), (8449, 6625), (8450, 675), (8451, 0), (8452, 190), (8453, 0), (8454, 0), (8455, 19000), (8704, 3), (8705, 65496), (8706, 2), (8707, 4), (8708, 15), (8709, 13), (8960, 7), (8961, 206), (8962, 10000), (8963, 236), (8964, 5000), (11264, 0), (11265, 0), (11266, 0), (11267, 0), (11268, 0), (11269, 0), (11270, 0), (11271, 0)]\r\n"
     ]
    }
   ],
   "source": [
    "all_regs = si.read_all_registers()\n",
    "print(all_regs)"
   ]
  },
  {
   "cell_type": "code",
   "execution_count": 1,
   "metadata": {},
   "outputs": [],
   "source": [
    "si.write_all_registers(all_regs)"
   ]
  }
 ],
 "metadata": {
  "kernelspec": {
   "display_name": "MicroPython Remote",
   "language": "micropython",
   "name": "micropython"
  },
  "language_info": {
   "codemirror_mode": "python",
   "file_extension": ".py",
   "mimetype": "text/python",
   "name": "micropython"
  }
 },
 "nbformat": 4,
 "nbformat_minor": 2
}
