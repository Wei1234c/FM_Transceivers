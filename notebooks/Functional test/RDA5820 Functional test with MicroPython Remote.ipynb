{
 "cells": [
  {
   "cell_type": "markdown",
   "metadata": {},
   "source": [
    "# RDA5820 Functional test with MicroPython Remote\n",
    "- https://datasheet.lcsc.com/szlcsc/RDA-Microelectronics-RDA5820NS_C167244.pdf\n",
    "- http://news.eeworld.com.cn/mcu/article_2017011333300.html"
   ]
  },
  {
   "cell_type": "code",
   "execution_count": 1,
   "metadata": {},
   "outputs": [
    {
     "name": "stderr",
     "output_type": "stream",
     "text": [
      "'ls' 不是內部或外部命令、可執行的程式或批次檔。\n"
     ]
    }
   ],
   "source": [
    "%local\n",
    "!ls /dev/ttyUSB*"
   ]
  },
  {
   "cell_type": "code",
   "execution_count": 2,
   "metadata": {},
   "outputs": [
    {
     "name": "stdout",
     "output_type": "stream",
     "text": [
      "\u001b[34mConnected on COM3\n",
      "\u001b[0m"
     ]
    }
   ],
   "source": [
    "# %connect /dev/ttyUSB0 --baudrate=115200 --user='micro' --password='python' --wait=0\n",
    "\n",
    "%connect COM3 --baudrate=115200 --user='micro' --password='python' --wait=0"
   ]
  },
  {
   "cell_type": "code",
   "execution_count": 2,
   "metadata": {},
   "outputs": [],
   "source": [
    "# %lsmagic"
   ]
  },
  {
   "cell_type": "markdown",
   "metadata": {},
   "source": [
    "## Generators"
   ]
  },
  {
   "cell_type": "code",
   "execution_count": 2,
   "metadata": {},
   "outputs": [],
   "source": [
    "try:\n",
    "    from utilities.adapters import peripherals\n",
    "    from fm_transceivers.rda58xx.rda5820 import RDA5820 \n",
    "except:\n",
    "    import peripherals\n",
    "    from rda5820 import RDA5820"
   ]
  },
  {
   "cell_type": "code",
   "execution_count": 2,
   "metadata": {},
   "outputs": [],
   "source": [
    "#  for ESP32 ===========================\n",
    "\n",
    "with_hardware_device = True\n",
    "\n",
    "if with_hardware_device:\n",
    "    _i2c = peripherals.I2C.get_uPy_i2c(id = -1, scl_pin_id = 5, sda_pin_id = 4, freq = 400000) \n",
    "else:\n",
    "    _i2c = None  # using None for testing without actual hardware device.\n",
    "\n",
    "bus = peripherals.I2C(_i2c)"
   ]
  },
  {
   "cell_type": "code",
   "execution_count": 2,
   "metadata": {},
   "outputs": [],
   "source": [
    "rda = RDA5820(bus, freq = 97.7e6, work_mode = 'FM_Receiver')\n",
    "# rda = RDA5820(bus, freq = 88.8e6, work_mode = 'FM_Transmitter', tx_power_dBm = 3)\n",
    "# rda = RDA5820(bus, work_mode = 'Audio_Amplifier')\n",
    "\n",
    "# rda.set_work_mode(mode = 'Audio_Amplifier')"
   ]
  },
  {
   "cell_type": "markdown",
   "metadata": {},
   "source": [
    "## Noise Level Measurement"
   ]
  },
  {
   "cell_type": "code",
   "execution_count": 2,
   "metadata": {},
   "outputs": [],
   "source": [
    "# plt.figure(figsize = (15, 5))\n",
    " \n",
    "# noise_levels = rda.receiver.scan_noise_levels(freq_start = 88.9e6, freq_end = 90e6, wait_seconds = 0.3)\n",
    "# # noise_levels = rda.receiver.scan_noise_levels()\n",
    "# nl = np.array(noise_levels).T\n",
    "# plt.plot(nl[0] / 1e6, nl[1]);\n",
    "# # plt.bar(nl[0] / 1e6, nl[1], orientation = 'vertical');"
   ]
  },
  {
   "cell_type": "code",
   "execution_count": 2,
   "metadata": {
    "scrolled": true
   },
   "outputs": [],
   "source": [
    "# noise_levels_sorted = sorted(noise_levels, key = lambda x: x[1])\n",
    "# noise_levels_sorted"
   ]
  },
  {
   "cell_type": "markdown",
   "metadata": {},
   "source": [
    "## RDS"
   ]
  },
  {
   "cell_type": "code",
   "execution_count": 2,
   "metadata": {},
   "outputs": [],
   "source": [
    "# rda.rds.set_rds(program_id = 0x0520,\n",
    "#                 station_name = \"Wei Lin\",\n",
    "#                 radio_text = \"My Radio Station !\",\n",
    "#                 program_type_code = 4,\n",
    "#                 repeat_count = 3, message_count = 1, rds_mix_ratio = 50,  \n",
    "#                 rds_fifo_size = 20,\n",
    "#                 enable = True)"
   ]
  },
  {
   "cell_type": "code",
   "execution_count": 2,
   "metadata": {},
   "outputs": [],
   "source": [
    "# while True:\n",
    "#     rda.rda.set_rds_buffer(message = time.strftime(\"%Y-%m-%d %H:%M:%S\"), use_FIFO = True)\n",
    "#     time.sleep(10)"
   ]
  },
  {
   "cell_type": "code",
   "execution_count": 2,
   "metadata": {},
   "outputs": [],
   "source": [
    "# rda.rda.set_rds(enable = False)"
   ]
  },
  {
   "cell_type": "markdown",
   "metadata": {},
   "source": [
    "## Member functions test"
   ]
  },
  {
   "cell_type": "code",
   "execution_count": 2,
   "metadata": {},
   "outputs": [],
   "source": [
    "# for f in dir(RDA5820):\n",
    "#     if not f.startswith('_'):\n",
    "#         if f.islower():\n",
    "#             if callable(getattr(RDA5820, f)):\n",
    "#                 print('rda.{}()'.format(f))"
   ]
  },
  {
   "cell_type": "code",
   "execution_count": 2,
   "metadata": {},
   "outputs": [],
   "source": [
    "# rda.apply_signal()"
   ]
  },
  {
   "cell_type": "code",
   "execution_count": 2,
   "metadata": {},
   "outputs": [],
   "source": [
    "rda.dsp._enable_bass_boost(False)"
   ]
  },
  {
   "cell_type": "code",
   "execution_count": 2,
   "metadata": {},
   "outputs": [],
   "source": [
    "rda.dsp._enable_bass_boost(True)"
   ]
  },
  {
   "cell_type": "code",
   "execution_count": 2,
   "metadata": {},
   "outputs": [],
   "source": [
    "rda.dsp._enable_soft_blend(False)"
   ]
  },
  {
   "cell_type": "code",
   "execution_count": 2,
   "metadata": {},
   "outputs": [],
   "source": [
    "rda.dsp._enable_soft_blend(True)"
   ]
  },
  {
   "cell_type": "code",
   "execution_count": 2,
   "metadata": {},
   "outputs": [],
   "source": [
    "rda.dsp._enable_afc(False)"
   ]
  },
  {
   "cell_type": "code",
   "execution_count": 2,
   "metadata": {},
   "outputs": [],
   "source": [
    "rda.dsp._enable_afc(True)"
   ]
  },
  {
   "cell_type": "code",
   "execution_count": 2,
   "metadata": {},
   "outputs": [],
   "source": [
    "rda.close()"
   ]
  },
  {
   "cell_type": "code",
   "execution_count": 2,
   "metadata": {},
   "outputs": [],
   "source": [
    "rda.enable()"
   ]
  },
  {
   "cell_type": "code",
   "execution_count": 2,
   "metadata": {},
   "outputs": [],
   "source": [
    "rda.enable_output(False)"
   ]
  },
  {
   "cell_type": "code",
   "execution_count": 2,
   "metadata": {},
   "outputs": [],
   "source": [
    "rda.enable_output(True)"
   ]
  },
  {
   "cell_type": "code",
   "execution_count": 2,
   "metadata": {},
   "outputs": [],
   "source": [
    "rda.mute(True)"
   ]
  },
  {
   "cell_type": "code",
   "execution_count": 2,
   "metadata": {},
   "outputs": [
    {
     "name": "stdout",
     "output_type": "stream",
     "text": [
      "False\r\n"
     ]
    }
   ],
   "source": [
    "rda.stereo = False\n",
    "print(rda.stereo)"
   ]
  },
  {
   "cell_type": "code",
   "execution_count": 2,
   "metadata": {},
   "outputs": [
    {
     "name": "stdout",
     "output_type": "stream",
     "text": [
      "False\r\n"
     ]
    }
   ],
   "source": [
    "rda.stereo = True\n",
    "print(rda.stereo)"
   ]
  },
  {
   "cell_type": "code",
   "execution_count": 2,
   "metadata": {},
   "outputs": [],
   "source": [
    "rda.mute(False)"
   ]
  },
  {
   "cell_type": "code",
   "execution_count": 2,
   "metadata": {},
   "outputs": [],
   "source": [
    "rda.pause()"
   ]
  },
  {
   "cell_type": "code",
   "execution_count": 2,
   "metadata": {},
   "outputs": [],
   "source": [
    "rda.resume()"
   ]
  },
  {
   "cell_type": "code",
   "execution_count": 2,
   "metadata": {},
   "outputs": [],
   "source": [
    "rda.reset()"
   ]
  },
  {
   "cell_type": "code",
   "execution_count": 2,
   "metadata": {},
   "outputs": [],
   "source": [
    "rda.set_frequency(88.9e6)"
   ]
  },
  {
   "cell_type": "code",
   "execution_count": 2,
   "metadata": {},
   "outputs": [],
   "source": [
    "rda.set_frequency(97.7e6)"
   ]
  },
  {
   "cell_type": "code",
   "execution_count": 2,
   "metadata": {},
   "outputs": [],
   "source": [
    "rda.set_frequency(88.8e6)"
   ]
  },
  {
   "cell_type": "code",
   "execution_count": 2,
   "metadata": {},
   "outputs": [],
   "source": [
    "rda.transmitter.set_power(-32)"
   ]
  },
  {
   "cell_type": "code",
   "execution_count": 2,
   "metadata": {},
   "outputs": [],
   "source": [
    "rda.transmitter.set_power(3)"
   ]
  },
  {
   "cell_type": "code",
   "execution_count": 2,
   "metadata": {},
   "outputs": [],
   "source": [
    "rda.init()"
   ]
  },
  {
   "cell_type": "code",
   "execution_count": 2,
   "metadata": {},
   "outputs": [],
   "source": [
    "rda.set_work_mode('Audio_Amplifier')"
   ]
  },
  {
   "cell_type": "code",
   "execution_count": 2,
   "metadata": {},
   "outputs": [],
   "source": [
    "rda.set_work_mode(mode = 'FM_Transmitter')\n",
    "rda.tuner.set_frequency(88.8e6)"
   ]
  },
  {
   "cell_type": "code",
   "execution_count": 2,
   "metadata": {},
   "outputs": [],
   "source": [
    "rda.set_work_mode('FM_Receiver')\n",
    "rda.tuner.set_frequency(97.7e6)"
   ]
  },
  {
   "cell_type": "code",
   "execution_count": 2,
   "metadata": {},
   "outputs": [],
   "source": [
    "rda.start()"
   ]
  },
  {
   "cell_type": "code",
   "execution_count": 2,
   "metadata": {},
   "outputs": [],
   "source": [
    "rda.stop()"
   ]
  },
  {
   "cell_type": "code",
   "execution_count": 2,
   "metadata": {},
   "outputs": [],
   "source": [
    "rda.toggle()"
   ]
  },
  {
   "cell_type": "code",
   "execution_count": 2,
   "metadata": {},
   "outputs": [],
   "source": [
    "rda.update()"
   ]
  },
  {
   "cell_type": "code",
   "execution_count": 2,
   "metadata": {},
   "outputs": [],
   "source": [
    "rda.write_all_registers()"
   ]
  },
  {
   "cell_type": "code",
   "execution_count": 2,
   "metadata": {},
   "outputs": [
    {
     "name": "stdout",
     "output_type": "stream",
     "text": [
      "\r\n",
      "<< 0x05 >>         :  ('0x8881', '0b1000100010000001')\r\n",
      "[ INT_MODE ]     :  1\r\n",
      "[ SEEK_MODE ]    :  0\r\n",
      "[ Reserved_12 ]  :  0\r\n",
      "[ SEEKTH ]       :  8\r\n",
      "[ LNA_PORT_SEL ] :  2\r\n",
      "[ Reserved_4 ]   :  0\r\n",
      "[ VOLUME ]       :  1\r\n"
     ]
    }
   ],
   "source": [
    "rda.print_register(5)"
   ]
  },
  {
   "cell_type": "code",
   "execution_count": 2,
   "metadata": {},
   "outputs": [],
   "source": [
    "rda.read_all_registers()"
   ]
  },
  {
   "cell_type": "code",
   "execution_count": 2,
   "metadata": {
    "scrolled": false
   },
   "outputs": [
    {
     "name": "stdout",
     "output_type": "stream",
     "text": [
      "\n",
      "<< 0x00 >>   :  ('0x5820', '0b101100000100000')\n",
      "[ CHIPID ] :  22560\n",
      "\n",
      "<< 0x02 >>                    :  ('0xd201', '0b1101001000000001')\n",
      "[ DHIZ ]                    :  1\n",
      "[ DMUTE ]                   :  1\n",
      "[ MONO ]                    :  0\n",
      "[ BASS ]                    :  1\n",
      "[ RCLK_NON_CALIBRATE_MODE ] :  0\n",
      "[ RCLK_DIRECT_INPUT_MODE ]  :  0\n",
      "[ SEEKUP ]                  :  1\n",
      "[ SEEK ]                    :  0\n",
      "[ SKMODE ]                  :  0\n",
      "[ CLK_MODE ]                :  0\n",
      "[ RDS_EN ]                  :  0\n",
      "[ Reserved_2 ]              :  0\n",
      "[ SOFT_RESET ]              :  0\n",
      "[ ENABLE ]                  :  1\n",
      "\n",
      "<< 0x03 >>        :  ('0x1ac0', '0b1101011000000')\n",
      "[ CHAN ]        :  107\n",
      "[ DIRECT_MODE ] :  0\n",
      "[ TUNE ]        :  0\n",
      "[ BAND ]        :  0\n",
      "[ SPACE ]       :  0\n",
      "\n",
      "<< 0x04 >>         :  ('0x4400', '0b100010000000000')\n",
      "[ RDSIEN ]       :  0\n",
      "[ STCIEN ]       :  1\n",
      "[ RBDS ]         :  0\n",
      "[ RDS_FIFO_EN ]  :  0\n",
      "[ DE ]           :  0\n",
      "[ RDS_FIFO_CLR ] :  1\n",
      "[ SOFTMUTE_EN ]  :  0\n",
      "[ AFCD ]         :  0\n",
      "[ Reserved_7 ]   :  0\n",
      "[ I2S_ENABLED ]  :  0\n",
      "[ GPIO3 ]        :  0\n",
      "[ GPIO2 ]        :  0\n",
      "[ GPIO1 ]        :  0\n",
      "\n",
      "<< 0x05 >>         :  ('0x8881', '0b1000100010000001')\n",
      "[ INT_MODE ]     :  1\n",
      "[ SEEK_MODE ]    :  0\n",
      "[ Reserved_12 ]  :  0\n",
      "[ SEEKTH ]       :  8\n",
      "[ LNA_PORT_SEL ] :  2\n",
      "[ Reserved_4 ]   :  0\n",
      "[ VOLUME ]       :  1\n",
      "\n",
      "<< 0x06 >>        :  ('0x800', '0b100000000000')\n",
      "[ Reserved_13 ] :  0\n",
      "[ I2S_MODE ]    :  0\n",
      "[ SW_LR ]       :  1\n",
      "[ SCLK_I_EDGE ] :  0\n",
      "[ DATA_SIGNED ] :  0\n",
      "[ WS_I_EDGE ]   :  0\n",
      "[ I2S_SW_CNT ]  :  0\n",
      "[ SW_O_EDGE ]   :  0\n",
      "[ SCLK_O_EDGE ] :  0\n",
      "[ L_DELY ]      :  0\n",
      "[ R_DELY ]      :  0\n",
      "\n",
      "<< 0x07 >>         :  ('0x5ec6', '0b101111011000110')\n",
      "[ Reserved_15 ]  :  0\n",
      "[ TH_SOFRBLEND ] :  23\n",
      "[ 65M_50M_MODE ] :  1\n",
      "[ Reserved_8 ]   :  0\n",
      "[ SEEK_TH_OLD ]  :  49\n",
      "[ SOFTBLEND_EN ] :  1\n",
      "[ FREQ_MODE ]    :  0\n",
      "\n",
      "<< 0x0A >>     :  ('0x406b', '0b100000001101011')\n",
      "[ RDSR ]     :  0\n",
      "[ STC ]      :  1\n",
      "[ SF ]       :  0\n",
      "[ RDSS ]     :  0\n",
      "[ BLK_E ]    :  0\n",
      "[ ST ]       :  0\n",
      "[ READCHAN ] :  107\n",
      "\n",
      "<< 0x0B >>       :  ('0x288f', '0b10100010001111')\n",
      "[ RSSI ]       :  20\n",
      "[ FM_TRUE ]    :  0\n",
      "[ FM_READY ]   :  1\n",
      "[ Reserved_5 ] :  0\n",
      "[ ABCD_E ]     :  0\n",
      "[ BLERA ]      :  3\n",
      "[ BLERB ]      :  3\n",
      "\n",
      "<< 0x0C >> :  ('0x0', '0b0')\n",
      "[ RDSA ] :  0\n",
      "\n",
      "<< 0x0D >> :  ('0x0', '0b0')\n",
      "[ RDSB ] :  0\n",
      "\n",
      "<< 0x0E >> :  ('0x0', '0b0')\n",
      "[ RDSC ] :  0\n",
      "\n",
      "<< 0x0F >> :  ('0x0', '0b0')\n",
      "[ RDSD ] :  0\n",
      "\n",
      "<< 0x40 >>       :  ('0x0', '0b0')\n",
      "[ Reserved_4 ] :  0\n",
      "[ WORK_MODE ]  :  0\n",
      "\n",
      "<< 0x41 >>        :  ('0x93f', '0b100100111111')\n",
      "[ Reserved_12 ] :  0\n",
      "[ TXPA_VCOM ]   :  4\n",
      "[ TXPA_IBIT ]   :  4\n",
      "[ TXPA_GAIN ]   :  63\n",
      "\n",
      "<< 0x67 >>           :  ('0xe10', '0b111000010000')\n",
      "[ FMTX_PILOT_DEV ] :  14\n",
      "[ FMTX_RDS__DEV ]  :  16\n",
      "\n",
      "<< 0x68 >>           :  ('0x1fff', '0b1111111111111')\n",
      "[ Reserved_14 ]    :  0\n",
      "[ FMTX_PGA_GAIN ]  :  3\n",
      "[ FMTX_ADC_GAIN ]  :  7\n",
      "[ FMTX_AUDIO_DEV ] :  255\n"
     ]
    }
   ],
   "source": [
    "rda.print()"
   ]
  },
  {
   "cell_type": "markdown",
   "metadata": {},
   "source": [
    "## Registers values of default configuration"
   ]
  },
  {
   "cell_type": "code",
   "execution_count": 2,
   "metadata": {},
   "outputs": [],
   "source": [
    "DEFAULT_REGISTERS_VALUES = [(0, 22560), (2, 53761), (3, 1168), (4, 17408), (5, 34945), (6, 2048), (7, 24260), (10, 18), (11, 0), (12, 22560), (13, 22560), (14, 22533), (15, 22533), (64, 0), (65, 2367), (103, 3600), (104, 8191)]"
   ]
  },
  {
   "cell_type": "code",
   "execution_count": 2,
   "metadata": {},
   "outputs": [],
   "source": [
    "rda.init()\n",
    "initial_registers_values = rda.registers_values"
   ]
  },
  {
   "cell_type": "code",
   "execution_count": 2,
   "metadata": {},
   "outputs": [],
   "source": [
    "rda.read_all_registers()\n",
    "read_back_registers_values = rda.registers_values"
   ]
  },
  {
   "cell_type": "code",
   "execution_count": 2,
   "metadata": {},
   "outputs": [],
   "source": [
    "# df = rda.map.compare_values_sets_pd(initial_registers_values, DEFAULT_REGISTERS_VALUES)\n",
    "# df[df.different == 1]"
   ]
  },
  {
   "cell_type": "code",
   "execution_count": 2,
   "metadata": {
    "scrolled": true
   },
   "outputs": [],
   "source": [
    "# df = rda.map.compare_values_sets_pd(initial_registers_values, read_back_registers_values)\n",
    "# df[df.different == 1]"
   ]
  }
 ],
 "metadata": {
  "kernelspec": {
   "display_name": "MicroPython Remote",
   "language": "micropython",
   "name": "micropython"
  },
  "language_info": {
   "codemirror_mode": "python",
   "file_extension": ".py",
   "mimetype": "text/python",
   "name": "micropython"
  }
 },
 "nbformat": 4,
 "nbformat_minor": 2
}
