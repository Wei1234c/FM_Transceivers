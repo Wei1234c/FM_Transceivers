{
 "cells": [
  {
   "cell_type": "markdown",
   "metadata": {},
   "source": [
    "# RDA5820 Functional Test \n",
    "- https://datasheet.lcsc.com/szlcsc/RDA-Microelectronics-RDA5820NS_C167244.pdf\n",
    "- http://news.eeworld.com.cn/mcu/article_2017011333300.html"
   ]
  },
  {
   "cell_type": "code",
   "execution_count": 1,
   "metadata": {},
   "outputs": [],
   "source": [
    "import os, sys\n",
    "\n",
    "def gen_relative_path(target_path): \n",
    "    \n",
    "    def del_same_parents(target_path, current_path):\n",
    "        if len(target_path) * len(current_path) > 0:\n",
    "            if target_path[0] == current_path[0]:\n",
    "                target_path.pop(0)\n",
    "                current_path.pop(0)\n",
    "                del_same_parents(target_path, current_path)\n",
    "            \n",
    "    current_path = os.getcwd().replace('\\\\', '/').split('/')\n",
    "    target_path = target_path.replace('\\\\', '/').split('/')\n",
    "    del_same_parents(target_path, current_path)\n",
    "    \n",
    "    return ['..'] * len(current_path) + target_path\n",
    "\n",
    "\n",
    "def append_source_relative_path(source_relative_path):\n",
    "    sys.path.append(os.sep.join(source_relative_path))"
   ]
  },
  {
   "cell_type": "code",
   "execution_count": 2,
   "metadata": {},
   "outputs": [],
   "source": [
    "# paths = [' ']\n",
    "# paths = [gen_relative_path(p) for p in paths]\n",
    "# print(paths)"
   ]
  },
  {
   "cell_type": "code",
   "execution_count": 3,
   "metadata": {},
   "outputs": [],
   "source": [
    "paths =[['..', '..', '..', '..', '..', 'Signal Generators', 'bitbucket', 'github', 'codes'],\n",
    "        ['..', '..', '..', '..', '..', 'FX2LP', 'bitbucket', 'github', 'codes'], \n",
    "        ['..', '..', '..', '..', '..', 'Utilities', 'bitbucket', 'github', 'codes'],\n",
    "        ['..', '..', 'codes']]\n",
    "\n",
    "for path in paths:\n",
    "    append_source_relative_path(path)"
   ]
  },
  {
   "cell_type": "code",
   "execution_count": 4,
   "metadata": {},
   "outputs": [
    {
     "name": "stdout",
     "output_type": "stream",
     "text": [
      "Populating the interactive namespace from numpy and matplotlib\n"
     ]
    }
   ],
   "source": [
    "%pylab inline\n",
    " \n",
    "from array import array\n",
    "from utilities.adapters import peripherals\n",
    "from fm_transceivers import RDA5820\n",
    "import fx2lp"
   ]
  },
  {
   "cell_type": "markdown",
   "metadata": {},
   "source": [
    "## Debug mode?"
   ]
  },
  {
   "cell_type": "code",
   "execution_count": 5,
   "metadata": {
    "scrolled": false
   },
   "outputs": [],
   "source": [
    "cls = RDA5820\n",
    "\n",
    "cls.DEBUG_MODE_SHOW_BUS_DATA = False         # whether to show bus data. \n",
    "cls.DEBUG_MODE_PRINT_REGISTER = False        # whether to print registers. "
   ]
  },
  {
   "cell_type": "markdown",
   "metadata": {},
   "source": [
    "## Generators"
   ]
  },
  {
   "cell_type": "code",
   "execution_count": 6,
   "metadata": {},
   "outputs": [
    {
     "name": "stdout",
     "output_type": "stream",
     "text": [
      "\n",
      "****** Virtual device. Data may not be real ! ******\n",
      "\n"
     ]
    }
   ],
   "source": [
    "with_hardware_device = False\n",
    "\n",
    "if with_hardware_device:\n",
    "    _i2c = peripherals.I2C.get_Ftdi_i2c()\n",
    "else:\n",
    "    _i2c = None  # using None for testing without actual hardware device.\n",
    "\n",
    "    \n",
    "bus = peripherals.I2C(_i2c)"
   ]
  },
  {
   "cell_type": "code",
   "execution_count": 8,
   "metadata": {},
   "outputs": [],
   "source": [
    "bus = fx2lp.I2C(as_400KHz = True)"
   ]
  },
  {
   "cell_type": "code",
   "execution_count": 9,
   "metadata": {},
   "outputs": [],
   "source": [
    "# freq = 88.80e6\n",
    "# freq = 97.7e6\n",
    "\n",
    "rda = RDA5820(bus, freq = 97.7e6, work_mode = 'FM_Receiver', tx_power_dBm = 3)\n",
    "# rda = RDA5820(bus, freq = 88.80e6, work_mode = 'FM_Transmitter', tx_power_dBm = 3)\n",
    "initial_registers_values = rda.registers_values"
   ]
  },
  {
   "cell_type": "markdown",
   "metadata": {},
   "source": [
    "## Compare configs"
   ]
  },
  {
   "cell_type": "code",
   "execution_count": null,
   "metadata": {},
   "outputs": [],
   "source": [
    "rda.set_work_mode('Audio_Amplifier')"
   ]
  },
  {
   "cell_type": "code",
   "execution_count": 10,
   "metadata": {},
   "outputs": [],
   "source": [
    "rda.set_work_mode(mode = 'FM_Transmitter')\n",
    "rda.tuner.set_frequency(88.8e6)"
   ]
  },
  {
   "cell_type": "code",
   "execution_count": null,
   "metadata": {},
   "outputs": [],
   "source": [
    "rda.set_work_mode('FM_Receiver')\n",
    "rda.tuner.set_frequency(97.7e6)"
   ]
  },
  {
   "cell_type": "markdown",
   "metadata": {},
   "source": [
    "## Noise Level Measurement"
   ]
  },
  {
   "cell_type": "code",
   "execution_count": null,
   "metadata": {},
   "outputs": [],
   "source": [
    "plt.figure(figsize = (15, 5))\n",
    " \n",
    "# noise_levels = rda.receiver.scan_noise_levels(freq_start = 88.9e6, freq_end = 90e6, wait_seconds = 0.2)\n",
    "noise_levels = rda.receiver.scan_noise_levels()\n",
    "nl = np.array(noise_levels).T\n",
    "plt.plot(nl[0] / 1e6, nl[1]);\n",
    "# plt.bar(nl[0] / 1e6, nl[1], orientation = 'vertical');"
   ]
  },
  {
   "cell_type": "code",
   "execution_count": null,
   "metadata": {
    "scrolled": true
   },
   "outputs": [],
   "source": [
    "noise_levels_sorted = sorted(noise_levels, key = lambda x: x[1])\n",
    "noise_levels_sorted"
   ]
  },
  {
   "cell_type": "markdown",
   "metadata": {},
   "source": [
    "## RDS"
   ]
  },
  {
   "cell_type": "code",
   "execution_count": null,
   "metadata": {},
   "outputs": [],
   "source": [
    "rda.rds.set_rds(program_id = 0x0520,\n",
    "                station_name = \"Wei Lin\",\n",
    "                radio_text = \"My Radio Station !\",\n",
    "                program_type_code = 4,\n",
    "                repeat_count = 3, message_count = 1, rds_mix_ratio = 50,  \n",
    "                rds_fifo_size = 20,\n",
    "                enable = True)"
   ]
  },
  {
   "cell_type": "code",
   "execution_count": null,
   "metadata": {},
   "outputs": [],
   "source": [
    "# while True:\n",
    "#     si.set_rds_buffer(message = time.strftime(\"%Y-%m-%d %H:%M:%S\"), use_FIFO = True)\n",
    "#     time.sleep(10)"
   ]
  },
  {
   "cell_type": "code",
   "execution_count": null,
   "metadata": {},
   "outputs": [],
   "source": [
    "si.set_rds(enable = False)"
   ]
  },
  {
   "cell_type": "markdown",
   "metadata": {},
   "source": [
    "## Member functions test"
   ]
  },
  {
   "cell_type": "code",
   "execution_count": null,
   "metadata": {},
   "outputs": [],
   "source": [
    "# for f in dir(RDA5820):\n",
    "#     if not f.startswith('_'):\n",
    "#         if f.islower():\n",
    "#             if callable(getattr(Si4713, f)):\n",
    "#                 print('rda.{}()'.format(f))"
   ]
  },
  {
   "cell_type": "code",
   "execution_count": null,
   "metadata": {},
   "outputs": [],
   "source": [
    "DEFAULT_REGISTERS_VALUES = ( )"
   ]
  },
  {
   "cell_type": "code",
   "execution_count": null,
   "metadata": {},
   "outputs": [],
   "source": [
    "si.init()\n",
    "initial_registers_values = si.registers_values"
   ]
  },
  {
   "cell_type": "code",
   "execution_count": null,
   "metadata": {},
   "outputs": [],
   "source": [
    "si.read_all_registers()\n",
    "read_back_registers_values = si.registers_values"
   ]
  },
  {
   "cell_type": "code",
   "execution_count": null,
   "metadata": {},
   "outputs": [],
   "source": [
    "df = si.map.compare_values_sets_pd(initial_registers_values, DEFAULT_REGISTERS_VALUES)\n",
    "df[df.different == 1]"
   ]
  },
  {
   "cell_type": "code",
   "execution_count": null,
   "metadata": {},
   "outputs": [],
   "source": [
    "df = si.map.compare_values_sets_pd(initial_registers_values, read_back_registers_values)\n",
    "# df\n",
    "df[df.different == 1]"
   ]
  }
 ],
 "metadata": {
  "kernelspec": {
   "display_name": "Python 3",
   "language": "python",
   "name": "python3"
  },
  "language_info": {
   "codemirror_mode": {
    "name": "ipython",
    "version": 3
   },
   "file_extension": ".py",
   "mimetype": "text/x-python",
   "name": "python",
   "nbconvert_exporter": "python",
   "pygments_lexer": "ipython3",
   "version": "3.6.10"
  }
 },
 "nbformat": 4,
 "nbformat_minor": 2
}
